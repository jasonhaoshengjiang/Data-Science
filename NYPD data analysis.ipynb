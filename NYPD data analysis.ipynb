{
 "cells": [
  {
   "cell_type": "code",
   "execution_count": null,
   "metadata": {
    "id": "GN6c6WMcc9lq"
   },
   "outputs": [],
   "source": [
    "import pandas as pd\n",
    "import numpy as np\n",
    "from datetime import datetime\n",
    "from dateutil import parser\n",
    "import seaborn as sns\n",
    "from scipy.stats import norm\n",
    "from scipy.stats import genextreme as gev\n",
    "from scipy.stats import pareto \n",
    "from scipy import stats\n",
    "import geopandas as gpd\n",
    "from shapely.geometry import Point\n",
    "from matplotlib import pyplot as plt\n",
    "%matplotlib inline\n",
    "import warnings\n",
    "warnings.filterwarnings('ignore')"
   ]
  },
  {
   "cell_type": "markdown",
   "metadata": {
    "id": "eX4lo8z8c9lr"
   },
   "source": [
    "## NYPD data analysis\n",
    "\n",
    "Instructor: Dr.Stanislav Sobolevsky"
   ]
  },
  {
   "cell_type": "markdown",
   "metadata": {
    "id": "ol5SDRy0c9ls"
   },
   "source": [
    "Data dictionary: https://data.cityofnewyork.us/api/views/qgea-i56i/files/b21ec89f-4d7b-494e-b2e9-f69ae7f4c228?download=true&filename=NYPD_Complaint_Incident_Level_Data_Footnotes.pdf"
   ]
  },
  {
   "cell_type": "markdown",
   "metadata": {
    "id": "EnSaRs0Ec9ls"
   },
   "source": [
    "### Data Acquisition"
   ]
  },
  {
   "cell_type": "code",
   "execution_count": null,
   "metadata": {
    "id": "ACNixQ5Fc9lt",
    "outputId": "25cb04a2-7866-4c18-9d96-de4dc1ad57a7"
   },
   "outputs": [
    {
     "data": {
      "text/html": [
       "<div>\n",
       "<style scoped>\n",
       "    .dataframe tbody tr th:only-of-type {\n",
       "        vertical-align: middle;\n",
       "    }\n",
       "\n",
       "    .dataframe tbody tr th {\n",
       "        vertical-align: top;\n",
       "    }\n",
       "\n",
       "    .dataframe thead th {\n",
       "        text-align: right;\n",
       "    }\n",
       "</style>\n",
       "<table border=\"1\" class=\"dataframe\">\n",
       "  <thead>\n",
       "    <tr style=\"text-align: right;\">\n",
       "      <th></th>\n",
       "      <th>CMPLNT_NUM</th>\n",
       "      <th>CMPLNT_FR_DT</th>\n",
       "      <th>CMPLNT_FR_TM</th>\n",
       "      <th>CMPLNT_TO_DT</th>\n",
       "      <th>CMPLNT_TO_TM</th>\n",
       "      <th>ADDR_PCT_CD</th>\n",
       "      <th>RPT_DT</th>\n",
       "      <th>KY_CD</th>\n",
       "      <th>OFNS_DESC</th>\n",
       "      <th>PD_CD</th>\n",
       "      <th>...</th>\n",
       "      <th>SUSP_SEX</th>\n",
       "      <th>TRANSIT_DISTRICT</th>\n",
       "      <th>Latitude</th>\n",
       "      <th>Longitude</th>\n",
       "      <th>Lat_Lon</th>\n",
       "      <th>PATROL_BORO</th>\n",
       "      <th>STATION_NAME</th>\n",
       "      <th>VIC_AGE_GROUP</th>\n",
       "      <th>VIC_RACE</th>\n",
       "      <th>VIC_SEX</th>\n",
       "    </tr>\n",
       "  </thead>\n",
       "  <tbody>\n",
       "    <tr>\n",
       "      <th>0</th>\n",
       "      <td>394506329</td>\n",
       "      <td>12/31/2019</td>\n",
       "      <td>17:30:00</td>\n",
       "      <td>NaN</td>\n",
       "      <td>NaN</td>\n",
       "      <td>32.0</td>\n",
       "      <td>12/31/2019</td>\n",
       "      <td>118.0</td>\n",
       "      <td>DANGEROUS WEAPONS</td>\n",
       "      <td>793.0</td>\n",
       "      <td>...</td>\n",
       "      <td>NaN</td>\n",
       "      <td>NaN</td>\n",
       "      <td>40.820927</td>\n",
       "      <td>-73.943324</td>\n",
       "      <td>(40.82092679700002, -73.94332421899996)</td>\n",
       "      <td>PATROL BORO MAN NORTH</td>\n",
       "      <td>NaN</td>\n",
       "      <td>UNKNOWN</td>\n",
       "      <td>UNKNOWN</td>\n",
       "      <td>E</td>\n",
       "    </tr>\n",
       "    <tr>\n",
       "      <th>1</th>\n",
       "      <td>968873685</td>\n",
       "      <td>12/29/2019</td>\n",
       "      <td>16:31:00</td>\n",
       "      <td>12/29/2019</td>\n",
       "      <td>16:54:00</td>\n",
       "      <td>47.0</td>\n",
       "      <td>12/29/2019</td>\n",
       "      <td>113.0</td>\n",
       "      <td>FORGERY</td>\n",
       "      <td>729.0</td>\n",
       "      <td>...</td>\n",
       "      <td>NaN</td>\n",
       "      <td>NaN</td>\n",
       "      <td>40.885701</td>\n",
       "      <td>-73.861640</td>\n",
       "      <td>(40.885701406000074, -73.86164032499995)</td>\n",
       "      <td>PATROL BORO BRONX</td>\n",
       "      <td>NaN</td>\n",
       "      <td>UNKNOWN</td>\n",
       "      <td>UNKNOWN</td>\n",
       "      <td>E</td>\n",
       "    </tr>\n",
       "    <tr>\n",
       "      <th>2</th>\n",
       "      <td>509837549</td>\n",
       "      <td>12/15/2019</td>\n",
       "      <td>18:45:00</td>\n",
       "      <td>NaN</td>\n",
       "      <td>NaN</td>\n",
       "      <td>109.0</td>\n",
       "      <td>12/29/2019</td>\n",
       "      <td>578.0</td>\n",
       "      <td>HARRASSMENT 2</td>\n",
       "      <td>638.0</td>\n",
       "      <td>...</td>\n",
       "      <td>M</td>\n",
       "      <td>NaN</td>\n",
       "      <td>40.742281</td>\n",
       "      <td>-73.819824</td>\n",
       "      <td>(40.74228115600005, -73.81982408)</td>\n",
       "      <td>PATROL BORO QUEENS NORTH</td>\n",
       "      <td>NaN</td>\n",
       "      <td>25-44</td>\n",
       "      <td>WHITE HISPANIC</td>\n",
       "      <td>F</td>\n",
       "    </tr>\n",
       "    <tr>\n",
       "      <th>3</th>\n",
       "      <td>352454313</td>\n",
       "      <td>12/28/2019</td>\n",
       "      <td>01:00:00</td>\n",
       "      <td>NaN</td>\n",
       "      <td>NaN</td>\n",
       "      <td>47.0</td>\n",
       "      <td>12/28/2019</td>\n",
       "      <td>126.0</td>\n",
       "      <td>MISCELLANEOUS PENAL LAW</td>\n",
       "      <td>117.0</td>\n",
       "      <td>...</td>\n",
       "      <td>M</td>\n",
       "      <td>NaN</td>\n",
       "      <td>40.875311</td>\n",
       "      <td>-73.847545</td>\n",
       "      <td>(40.87531145100007, -73.84754521099995)</td>\n",
       "      <td>PATROL BORO BRONX</td>\n",
       "      <td>NaN</td>\n",
       "      <td>UNKNOWN</td>\n",
       "      <td>UNKNOWN</td>\n",
       "      <td>E</td>\n",
       "    </tr>\n",
       "    <tr>\n",
       "      <th>4</th>\n",
       "      <td>248803469</td>\n",
       "      <td>09/05/2008</td>\n",
       "      <td>21:41:00</td>\n",
       "      <td>NaN</td>\n",
       "      <td>NaN</td>\n",
       "      <td>NaN</td>\n",
       "      <td>09/05/2008</td>\n",
       "      <td>101.0</td>\n",
       "      <td>MURDER &amp; NON-NEGL. MANSLAUGHTER</td>\n",
       "      <td>NaN</td>\n",
       "      <td>...</td>\n",
       "      <td>NaN</td>\n",
       "      <td>NaN</td>\n",
       "      <td>40.698827</td>\n",
       "      <td>-73.938819</td>\n",
       "      <td>(40.698827283, -73.938819047)</td>\n",
       "      <td>NaN</td>\n",
       "      <td>NaN</td>\n",
       "      <td>25-44</td>\n",
       "      <td>BLACK</td>\n",
       "      <td>M</td>\n",
       "    </tr>\n",
       "  </tbody>\n",
       "</table>\n",
       "<p>5 rows × 35 columns</p>\n",
       "</div>"
      ],
      "text/plain": [
       "  CMPLNT_NUM CMPLNT_FR_DT CMPLNT_FR_TM CMPLNT_TO_DT CMPLNT_TO_TM  ADDR_PCT_CD  \\\n",
       "0  394506329   12/31/2019     17:30:00          NaN          NaN         32.0   \n",
       "1  968873685   12/29/2019     16:31:00   12/29/2019     16:54:00         47.0   \n",
       "2  509837549   12/15/2019     18:45:00          NaN          NaN        109.0   \n",
       "3  352454313   12/28/2019     01:00:00          NaN          NaN         47.0   \n",
       "4  248803469   09/05/2008     21:41:00          NaN          NaN          NaN   \n",
       "\n",
       "       RPT_DT  KY_CD                        OFNS_DESC  PD_CD  ... SUSP_SEX  \\\n",
       "0  12/31/2019  118.0                DANGEROUS WEAPONS  793.0  ...      NaN   \n",
       "1  12/29/2019  113.0                          FORGERY  729.0  ...      NaN   \n",
       "2  12/29/2019  578.0                    HARRASSMENT 2  638.0  ...        M   \n",
       "3  12/28/2019  126.0          MISCELLANEOUS PENAL LAW  117.0  ...        M   \n",
       "4  09/05/2008  101.0  MURDER & NON-NEGL. MANSLAUGHTER    NaN  ...      NaN   \n",
       "\n",
       "  TRANSIT_DISTRICT   Latitude  Longitude  \\\n",
       "0              NaN  40.820927 -73.943324   \n",
       "1              NaN  40.885701 -73.861640   \n",
       "2              NaN  40.742281 -73.819824   \n",
       "3              NaN  40.875311 -73.847545   \n",
       "4              NaN  40.698827 -73.938819   \n",
       "\n",
       "                                    Lat_Lon               PATROL_BORO  \\\n",
       "0   (40.82092679700002, -73.94332421899996)     PATROL BORO MAN NORTH   \n",
       "1  (40.885701406000074, -73.86164032499995)         PATROL BORO BRONX   \n",
       "2         (40.74228115600005, -73.81982408)  PATROL BORO QUEENS NORTH   \n",
       "3   (40.87531145100007, -73.84754521099995)         PATROL BORO BRONX   \n",
       "4             (40.698827283, -73.938819047)                       NaN   \n",
       "\n",
       "  STATION_NAME  VIC_AGE_GROUP        VIC_RACE VIC_SEX  \n",
       "0          NaN        UNKNOWN         UNKNOWN       E  \n",
       "1          NaN        UNKNOWN         UNKNOWN       E  \n",
       "2          NaN          25-44  WHITE HISPANIC       F  \n",
       "3          NaN        UNKNOWN         UNKNOWN       E  \n",
       "4          NaN          25-44           BLACK       M  \n",
       "\n",
       "[5 rows x 35 columns]"
      ]
     },
     "execution_count": 2,
     "metadata": {},
     "output_type": "execute_result"
    }
   ],
   "source": [
    "dat = pd.read_csv('/home/jovyan/shared/Data/NYPD_data.csv')\n",
    "dat.head()"
   ]
  },
  {
   "cell_type": "code",
   "execution_count": null,
   "metadata": {
    "id": "WCSFLE5Jc9lu",
    "outputId": "d655e7cd-d10f-4f38-84bd-06cee9100736"
   },
   "outputs": [
    {
     "data": {
      "text/plain": [
       "(653075, 35)"
      ]
     },
     "execution_count": 3,
     "metadata": {},
     "output_type": "execute_result"
    }
   ],
   "source": [
    "dat.shape"
   ]
  },
  {
   "cell_type": "code",
   "execution_count": null,
   "metadata": {
    "id": "qjWWLvCSc9lu",
    "outputId": "988a0504-643b-413c-818c-82c1aeeb5550"
   },
   "outputs": [
    {
     "data": {
      "text/plain": [
       "array(['DANGEROUS WEAPONS', 'FORGERY', 'HARRASSMENT 2',\n",
       "       'MISCELLANEOUS PENAL LAW', 'MURDER & NON-NEGL. MANSLAUGHTER',\n",
       "       'BURGLARY', 'DANGEROUS DRUGS', 'PETIT LARCENY',\n",
       "       'OFF. AGNST PUB ORD SENSBLTY &', 'GRAND LARCENY', 'FELONY ASSAULT',\n",
       "       'ASSAULT 3 & RELATED OFFENSES', 'ARSON', 'RAPE', 'SEX CRIMES',\n",
       "       'GRAND LARCENY OF MOTOR VEHICLE', 'ROBBERY',\n",
       "       'CRIMINAL MISCHIEF & RELATED OF', 'THEFT-FRAUD',\n",
       "       'VEHICLE AND TRAFFIC LAWS', 'CRIMINAL TRESPASS',\n",
       "       'OFFENSES INVOLVING FRAUD', 'FRAUDS',\n",
       "       'OFFENSES AGAINST PUBLIC ADMINI', 'OFFENSES AGAINST THE PERSON',\n",
       "       'ADMINISTRATIVE CODE', 'INTOXICATED & IMPAIRED DRIVING',\n",
       "       'ESCAPE 3', 'NYS LAWS-UNCLASSIFIED FELONY',\n",
       "       'POSSESSION OF STOLEN PROPERTY', 'THEFT OF SERVICES',\n",
       "       'KIDNAPPING & RELATED OFFENSES', 'OTHER OFFENSES RELATED TO THEF',\n",
       "       'UNAUTHORIZED USE OF A VEHICLE', \"BURGLAR'S TOOLS\",\n",
       "       'ENDAN WELFARE INCOMP', 'FRAUDULENT ACCOSTING',\n",
       "       'AGRICULTURE & MRKTS LAW-UNCLASSIFIED',\n",
       "       'OTHER STATE LAWS (NON PENAL LA', 'OFFENSES AGAINST PUBLIC SAFETY',\n",
       "       'GAMBLING', 'PETIT LARCENY OF MOTOR VEHICLE',\n",
       "       'ALCOHOLIC BEVERAGE CONTROL LAW', 'OFFENSES RELATED TO CHILDREN',\n",
       "       'ANTICIPATORY OFFENSES', 'LOITERING/GAMBLING (CARDS, DIC',\n",
       "       'FELONY SEX CRIMES', nan, 'HOMICIDE-NEGLIGENT,UNCLASSIFIE',\n",
       "       'PROSTITUTION & RELATED OFFENSES', 'JOSTLING',\n",
       "       'CHILD ABANDONMENT/NON SUPPORT', 'OTHER STATE LAWS', 'KIDNAPPING',\n",
       "       'NYS LAWS-UNCLASSIFIED VIOLATION', 'DISORDERLY CONDUCT',\n",
       "       'DISRUPTION OF A RELIGIOUS SERV', 'OFFENSES AGAINST MARRIAGE UNCL',\n",
       "       'HOMICIDE-NEGLIGENT-VEHICLE', 'INTOXICATED/IMPAIRED DRIVING',\n",
       "       'KIDNAPPING AND RELATED OFFENSES',\n",
       "       'UNLAWFUL POSS. WEAP. ON SCHOOL', 'OTHER TRAFFIC INFRACTION',\n",
       "       'OTHER STATE LAWS (NON PENAL LAW)', 'FORTUNE TELLING',\n",
       "       'NEW YORK CITY HEALTH CODE'], dtype=object)"
      ]
     },
     "execution_count": 4,
     "metadata": {},
     "output_type": "execute_result"
    }
   ],
   "source": [
    "dat.OFNS_DESC.unique()"
   ]
  },
  {
   "cell_type": "code",
   "execution_count": null,
   "metadata": {
    "id": "LwZGGYQXc9lu",
    "outputId": "021eb5d3-fd2f-4c76-ab8b-707c9bc09225"
   },
   "outputs": [
    {
     "data": {
      "text/plain": [
       "975"
      ]
     },
     "execution_count": 5,
     "metadata": {},
     "output_type": "execute_result"
    }
   ],
   "source": [
    "len(dat[dat['OFNS_DESC']=='MURDER & NON-NEGL. MANSLAUGHTER'])"
   ]
  },
  {
   "cell_type": "code",
   "execution_count": null,
   "metadata": {
    "id": "yvIywTrYc9lu",
    "outputId": "268afab9-6712-45e7-b178-39e3c28f6a86"
   },
   "outputs": [
    {
     "data": {
      "text/plain": [
       "Index(['CMPLNT_NUM', 'CMPLNT_FR_DT', 'CMPLNT_FR_TM', 'CMPLNT_TO_DT',\n",
       "       'CMPLNT_TO_TM', 'ADDR_PCT_CD', 'RPT_DT', 'KY_CD', 'OFNS_DESC', 'PD_CD',\n",
       "       'PD_DESC', 'CRM_ATPT_CPTD_CD', 'LAW_CAT_CD', 'BORO_NM',\n",
       "       'LOC_OF_OCCUR_DESC', 'PREM_TYP_DESC', 'JURIS_DESC', 'JURISDICTION_CODE',\n",
       "       'PARKS_NM', 'HADEVELOPT', 'HOUSING_PSA', 'X_COORD_CD', 'Y_COORD_CD',\n",
       "       'SUSP_AGE_GROUP', 'SUSP_RACE', 'SUSP_SEX', 'TRANSIT_DISTRICT',\n",
       "       'Latitude', 'Longitude', 'Lat_Lon', 'PATROL_BORO', 'STATION_NAME',\n",
       "       'VIC_AGE_GROUP', 'VIC_RACE', 'VIC_SEX'],\n",
       "      dtype='object')"
      ]
     },
     "execution_count": 6,
     "metadata": {},
     "output_type": "execute_result"
    }
   ],
   "source": [
    "dat.columns"
   ]
  },
  {
   "cell_type": "markdown",
   "metadata": {
    "id": "HTX-Klyec9lv"
   },
   "source": [
    "## Data cleaning "
   ]
  },
  {
   "cell_type": "markdown",
   "metadata": {
    "id": "zgfpZCHlc9lv"
   },
   "source": [
    "### 1. filter out missing/wrong date and times, missing borough name and duplicate complaints from the data"
   ]
  },
  {
   "cell_type": "code",
   "execution_count": null,
   "metadata": {
    "id": "M-wvExgYc9lv",
    "outputId": "899a110f-8fb6-4709-8f44-532516f6125a"
   },
   "outputs": [
    {
     "data": {
      "text/plain": [
       "(651981, 9)"
      ]
     },
     "execution_count": 7,
     "metadata": {},
     "output_type": "execute_result"
    }
   ],
   "source": [
    "# code here \n",
    "#remove unnecessary columns to save memory\n",
    "data = dat[['CMPLNT_NUM', 'CMPLNT_FR_DT', 'CMPLNT_FR_TM', 'OFNS_DESC', 'BORO_NM', 'PARKS_NM', 'Latitude', 'Longitude']]\n",
    "\n",
    "# make sure to convert date column to datetime\n",
    "data['crime_date'] = pd.to_datetime(data['CMPLNT_FR_DT'], errors = 'coerce')\n",
    "\n",
    "#drop missing date and time\n",
    "data = data.loc[data['crime_date'].notna()]\n",
    "data = data.loc[data['CMPLNT_FR_TM'].notna()]\n",
    "\n",
    "#drop unreasonable time\n",
    "data = data.loc[(data['CMPLNT_FR_TM']<= '23:59:59') & (data['CMPLNT_FR_TM']>= '00:00:00')]\n",
    "\n",
    "#drop missing borough names\n",
    "data = data.loc[data['BORO_NM'].notna()]\n",
    "\n",
    "#drop duplicate complaint number\n",
    "data = data.drop_duplicates('CMPLNT_NUM')\n",
    "\n",
    "data.shape"
   ]
  },
  {
   "cell_type": "markdown",
   "metadata": {
    "id": "xis5iFrfc9lw"
   },
   "source": [
    "### 2. Remove rows where location is parks or greenspace and keep data for 2019 and after"
   ]
  },
  {
   "cell_type": "code",
   "execution_count": null,
   "metadata": {
    "id": "pc9KzhmUc9lw",
    "outputId": "01d1f0bc-668b-4740-b57c-e9dd4a4ec9e3"
   },
   "outputs": [
    {
     "data": {
      "text/plain": [
       "(646839, 9)"
      ]
     },
     "execution_count": 8,
     "metadata": {},
     "output_type": "execute_result"
    }
   ],
   "source": [
    "# parks name is in 'PARKS_NM' column. If a crime has occured outside a parkspace, this value would be NaN\n",
    "data = data.loc[data['PARKS_NM'].isna()]\n",
    "data.shape"
   ]
  },
  {
   "cell_type": "code",
   "execution_count": null,
   "metadata": {
    "id": "FBdX-SGyc9lw",
    "outputId": "c1eb75f6-e80b-4eb5-d4e2-c9628ceb583e",
    "scrolled": true
   },
   "outputs": [
    {
     "data": {
      "text/plain": [
       "count                  646839\n",
       "unique                   4437\n",
       "top       2019-01-01 00:00:00\n",
       "freq                     1991\n",
       "first     1911-12-20 00:00:00\n",
       "last      2020-11-20 00:00:00\n",
       "Name: crime_date, dtype: object"
      ]
     },
     "execution_count": 9,
     "metadata": {},
     "output_type": "execute_result"
    }
   ],
   "source": [
    "## check the timeline of data\n",
    "data['crime_date'].describe()"
   ]
  },
  {
   "cell_type": "code",
   "execution_count": null,
   "metadata": {
    "id": "KOdWddZVc9lw",
    "outputId": "f2091e1d-9301-4134-f567-55963dbaea07"
   },
   "outputs": [
    {
     "data": {
      "text/plain": [
       "(446834, 9)"
      ]
     },
     "execution_count": 10,
     "metadata": {},
     "output_type": "execute_result"
    }
   ],
   "source": [
    "# remove data <2019\n",
    "#this task only asked to remove \"data before 2019\"\n",
    "#will remove data that was after 2019 in a later section\n",
    "data = data.loc[(data['crime_date']>= '2019-01-01')]\n",
    "data.shape"
   ]
  },
  {
   "cell_type": "markdown",
   "metadata": {
    "id": "pmoWFsZFc9lw"
   },
   "source": [
    "### 3. keep type 1 crimes as defined by FBI from the data : \n",
    "https://ucr.fbi.gov/crime-in-the-u.s/2011/crime-in-the-u.s.-2011/offense-definitions"
   ]
  },
  {
   "cell_type": "code",
   "execution_count": null,
   "metadata": {
    "id": "ouSXY_rHc9lx",
    "outputId": "8b320c49-9ffa-4cfb-e044-bcb5719fb557"
   },
   "outputs": [
    {
     "data": {
      "text/plain": [
       "(91527, 9)"
      ]
     },
     "execution_count": 11,
     "metadata": {},
     "output_type": "execute_result"
    }
   ],
   "source": [
    "data = data.loc[(data['OFNS_DESC'] == 'ARSON') | (data['OFNS_DESC'] == 'BURGLARY')\n",
    "               | (data['OFNS_DESC'] == 'FELONY ASSAULT') | (data['OFNS_DESC'] == 'GRAND LARCENY')\n",
    "               | (data['OFNS_DESC'] == 'GRAND LARCENY OF MOTOR VEHICLE') | (data['OFNS_DESC'] == 'MURDER & NON-NEGL. MANSLAUGHTER')\n",
    "               | (data['OFNS_DESC'] == 'RAPE') | (data['OFNS_DESC'] == 'ROBBERY')]\n",
    "data.shape"
   ]
  },
  {
   "cell_type": "code",
   "execution_count": null,
   "metadata": {
    "id": "mTVwiOCYc9lx",
    "outputId": "ef1d7193-ae12-4fdc-9dd6-5248da23c4a1"
   },
   "outputs": [
    {
     "data": {
      "text/plain": [
       "Counter({'BURGLARY': 10609,\n",
       "         'GRAND_LARCENY': 40437,\n",
       "         'FELONY_ASSAULT': 20248,\n",
       "         'ARSON': 676,\n",
       "         'RAPE': 1297,\n",
       "         'GRAND_LARCENY_OF_MOTOR_VEHICLE': 5347,\n",
       "         'ROBBERY': 12913})"
      ]
     },
     "execution_count": 12,
     "metadata": {},
     "output_type": "execute_result"
    }
   ],
   "source": [
    "from collections import Counter\n",
    "crime_count = data['OFNS_DESC'].str.replace(r'[ -]', '_', regex=True).values\n",
    "Counter(crime_count)"
   ]
  },
  {
   "cell_type": "markdown",
   "metadata": {
    "id": "3qHhvbw8c9lx"
   },
   "source": [
    "As seen from the cell above, although \"MURDER & NON-NEGL. MANSLAUGHTER\" was selected, there was no entry that actually fits this category after the previous filtering steps"
   ]
  },
  {
   "cell_type": "markdown",
   "metadata": {
    "id": "Skw_bUPTc9lx"
   },
   "source": [
    "### 4. keep rows with location within NYC\n",
    "\n",
    "https://data.cityofnewyork.us/Business/Zip-Code-Boundaries/i8iw-xf4u/data?no_mobile=true .\n",
    "\n",
    "Spatial joint to keep only rows within NYC"
   ]
  },
  {
   "cell_type": "code",
   "execution_count": null,
   "metadata": {
    "id": "7UYTgLN8c9lx",
    "outputId": "adf4eb95-a818-4668-e9cc-a047a6b4f142"
   },
   "outputs": [
    {
     "data": {
      "text/plain": [
       "(91527, 9)"
      ]
     },
     "execution_count": 13,
     "metadata": {},
     "output_type": "execute_result"
    }
   ],
   "source": [
    "# remove rows with location outside NYC\n",
    "#check longitude\n",
    "data = data.loc[(data['Longitude'] >= -74.257159) & (data['Longitude'] <= -73.699215) & \n",
    "            (data['Longitude'] >= -74.257159) & (data['Longitude'] <= -73.699215)]\n",
    "#check latitude\n",
    "data = data.loc[(data['Latitude'] >= 40.495992) & (data['Latitude'] <= 40.915568) & \n",
    "            (data['Latitude'] >= 40.495992) & (data['Latitude'] <= 40.915568)]\n",
    "data.shape"
   ]
  },
  {
   "cell_type": "markdown",
   "metadata": {
    "id": "R1XVePrgc9lx"
   },
   "source": [
    "From the filtering step above, it seems like all data entries are alredy within the boundary of New York City"
   ]
  },
  {
   "cell_type": "code",
   "execution_count": null,
   "metadata": {
    "id": "GWNKWgKnc9ly",
    "outputId": "16b856e4-e361-48b6-c949-21e6a7bc14ac"
   },
   "outputs": [
    {
     "data": {
      "text/plain": [
       "(263, 13)"
      ]
     },
     "execution_count": 14,
     "metadata": {},
     "output_type": "execute_result"
    }
   ],
   "source": [
    "## zip codes map\n",
    "# zips = gpd.read_file('Data/ZIPCODE/ZIP_CODE_040114.shp')\n",
    "zips = gpd.read_file('/home/jovyan/shared/Data/ZIP_CODE/ZIP_CODE_040114.shp')\n",
    "zips = zips.to_crs(epsg=4326)\n",
    "zips.shape"
   ]
  },
  {
   "cell_type": "code",
   "execution_count": null,
   "metadata": {
    "id": "ARYfng1Fc9ly"
   },
   "outputs": [],
   "source": [
    "zips['COUNTY'].replace({'New York': 'MANHATTAN', 'Bronx':'BRONX', 'Kings':'BROOKLYN', 'Queens':'QUEENS', 'Richmond':'STATEN ISLAND'}, inplace=True)"
   ]
  },
  {
   "cell_type": "markdown",
   "metadata": {
    "id": "pfnavii9c9ly"
   },
   "source": [
    "Note: 'ZIPCODE' column has unique codes. The borough name is given in 'COUNTY' column. The counties and boroughs are synonymous in NYC. 'New York' county corresponds to Manhattan, 'Kings' to Brooklyn, 'Richmond' to Staten Island"
   ]
  },
  {
   "cell_type": "code",
   "execution_count": null,
   "metadata": {
    "id": "EELOJdObc9ly"
   },
   "outputs": [],
   "source": [
    "#zips.COUNTY.unique()"
   ]
  },
  {
   "cell_type": "code",
   "execution_count": null,
   "metadata": {
    "id": "gglfRymfc9ly"
   },
   "outputs": [],
   "source": [
    "#zips.plot(figsize=(8,8))"
   ]
  },
  {
   "cell_type": "code",
   "execution_count": null,
   "metadata": {
    "id": "lvK790U1c9l2",
    "outputId": "70e69d7e-d3d1-474c-a255-c34be0409639"
   },
   "outputs": [
    {
     "data": {
      "text/plain": [
       "(91527, 10)"
      ]
     },
     "execution_count": 18,
     "metadata": {},
     "output_type": "execute_result"
    }
   ],
   "source": [
    "gdata = gpd.GeoDataFrame(\n",
    "    data, geometry=gpd.points_from_xy(data.Longitude, data.Latitude))\n",
    "gdata.shape"
   ]
  },
  {
   "cell_type": "code",
   "execution_count": null,
   "metadata": {
    "id": "ED4Fagudc9l3",
    "outputId": "d152d2af-7ab8-4305-f727-786cd3bd9a89"
   },
   "outputs": [
    {
     "data": {
      "text/html": [
       "<div>\n",
       "<style scoped>\n",
       "    .dataframe tbody tr th:only-of-type {\n",
       "        vertical-align: middle;\n",
       "    }\n",
       "\n",
       "    .dataframe tbody tr th {\n",
       "        vertical-align: top;\n",
       "    }\n",
       "\n",
       "    .dataframe thead th {\n",
       "        text-align: right;\n",
       "    }\n",
       "</style>\n",
       "<table border=\"1\" class=\"dataframe\">\n",
       "  <thead>\n",
       "    <tr style=\"text-align: right;\">\n",
       "      <th></th>\n",
       "      <th>CMPLNT_NUM</th>\n",
       "      <th>CMPLNT_FR_DT</th>\n",
       "      <th>CMPLNT_FR_TM</th>\n",
       "      <th>OFNS_DESC</th>\n",
       "      <th>BORO_NM</th>\n",
       "      <th>PARKS_NM</th>\n",
       "      <th>Latitude</th>\n",
       "      <th>Longitude</th>\n",
       "      <th>crime_date</th>\n",
       "      <th>geometry</th>\n",
       "      <th>...</th>\n",
       "      <th>POPULATION</th>\n",
       "      <th>AREA</th>\n",
       "      <th>STATE</th>\n",
       "      <th>COUNTY</th>\n",
       "      <th>ST_FIPS</th>\n",
       "      <th>CTY_FIPS</th>\n",
       "      <th>URL</th>\n",
       "      <th>SHAPE_AREA</th>\n",
       "      <th>SHAPE_LEN</th>\n",
       "      <th>incident</th>\n",
       "    </tr>\n",
       "  </thead>\n",
       "  <tbody>\n",
       "    <tr>\n",
       "      <th>5</th>\n",
       "      <td>293718737</td>\n",
       "      <td>12/27/2019</td>\n",
       "      <td>22:00:00</td>\n",
       "      <td>BURGLARY</td>\n",
       "      <td>MANHATTAN</td>\n",
       "      <td>NaN</td>\n",
       "      <td>40.720759</td>\n",
       "      <td>-73.980466</td>\n",
       "      <td>2019-12-27</td>\n",
       "      <td>POINT (-73.98047 40.72076)</td>\n",
       "      <td>...</td>\n",
       "      <td>61455.0</td>\n",
       "      <td>1.590352e+07</td>\n",
       "      <td>NY</td>\n",
       "      <td>MANHATTAN</td>\n",
       "      <td>36</td>\n",
       "      <td>061</td>\n",
       "      <td>http://www.usps.com/</td>\n",
       "      <td>0.0</td>\n",
       "      <td>0.0</td>\n",
       "      <td>1</td>\n",
       "    </tr>\n",
       "    <tr>\n",
       "      <th>10</th>\n",
       "      <td>585574881</td>\n",
       "      <td>12/24/2019</td>\n",
       "      <td>16:00:00</td>\n",
       "      <td>GRAND LARCENY</td>\n",
       "      <td>MANHATTAN</td>\n",
       "      <td>NaN</td>\n",
       "      <td>40.750431</td>\n",
       "      <td>-73.989282</td>\n",
       "      <td>2019-12-24</td>\n",
       "      <td>POINT (-73.98928 40.75043)</td>\n",
       "      <td>...</td>\n",
       "      <td>22413.0</td>\n",
       "      <td>1.779494e+07</td>\n",
       "      <td>NY</td>\n",
       "      <td>MANHATTAN</td>\n",
       "      <td>36</td>\n",
       "      <td>061</td>\n",
       "      <td>http://www.usps.com/</td>\n",
       "      <td>0.0</td>\n",
       "      <td>0.0</td>\n",
       "      <td>1</td>\n",
       "    </tr>\n",
       "    <tr>\n",
       "      <th>14</th>\n",
       "      <td>249276017</td>\n",
       "      <td>12/20/2019</td>\n",
       "      <td>14:00:00</td>\n",
       "      <td>FELONY ASSAULT</td>\n",
       "      <td>BRONX</td>\n",
       "      <td>NaN</td>\n",
       "      <td>40.822271</td>\n",
       "      <td>-73.911698</td>\n",
       "      <td>2019-12-20</td>\n",
       "      <td>POINT (-73.91170 40.82227)</td>\n",
       "      <td>...</td>\n",
       "      <td>44140.0</td>\n",
       "      <td>2.894411e+07</td>\n",
       "      <td>NY</td>\n",
       "      <td>BRONX</td>\n",
       "      <td>36</td>\n",
       "      <td>005</td>\n",
       "      <td>http://www.usps.com/</td>\n",
       "      <td>0.0</td>\n",
       "      <td>0.0</td>\n",
       "      <td>1</td>\n",
       "    </tr>\n",
       "    <tr>\n",
       "      <th>16</th>\n",
       "      <td>183266811</td>\n",
       "      <td>12/20/2019</td>\n",
       "      <td>01:35:00</td>\n",
       "      <td>BURGLARY</td>\n",
       "      <td>BROOKLYN</td>\n",
       "      <td>NaN</td>\n",
       "      <td>40.632545</td>\n",
       "      <td>-73.981951</td>\n",
       "      <td>2019-12-20</td>\n",
       "      <td>POINT (-73.98195 40.63254)</td>\n",
       "      <td>...</td>\n",
       "      <td>77354.0</td>\n",
       "      <td>4.355518e+07</td>\n",
       "      <td>NY</td>\n",
       "      <td>BROOKLYN</td>\n",
       "      <td>36</td>\n",
       "      <td>047</td>\n",
       "      <td>http://www.usps.com/</td>\n",
       "      <td>0.0</td>\n",
       "      <td>0.0</td>\n",
       "      <td>1</td>\n",
       "    </tr>\n",
       "    <tr>\n",
       "      <th>18</th>\n",
       "      <td>431547413</td>\n",
       "      <td>12/10/2019</td>\n",
       "      <td>20:06:00</td>\n",
       "      <td>ARSON</td>\n",
       "      <td>MANHATTAN</td>\n",
       "      <td>NaN</td>\n",
       "      <td>40.711952</td>\n",
       "      <td>-73.989855</td>\n",
       "      <td>2019-12-10</td>\n",
       "      <td>POINT (-73.98985 40.71195)</td>\n",
       "      <td>...</td>\n",
       "      <td>81305.0</td>\n",
       "      <td>2.628013e+07</td>\n",
       "      <td>NY</td>\n",
       "      <td>MANHATTAN</td>\n",
       "      <td>36</td>\n",
       "      <td>061</td>\n",
       "      <td>http://www.usps.com/</td>\n",
       "      <td>0.0</td>\n",
       "      <td>0.0</td>\n",
       "      <td>1</td>\n",
       "    </tr>\n",
       "    <tr>\n",
       "      <th>...</th>\n",
       "      <td>...</td>\n",
       "      <td>...</td>\n",
       "      <td>...</td>\n",
       "      <td>...</td>\n",
       "      <td>...</td>\n",
       "      <td>...</td>\n",
       "      <td>...</td>\n",
       "      <td>...</td>\n",
       "      <td>...</td>\n",
       "      <td>...</td>\n",
       "      <td>...</td>\n",
       "      <td>...</td>\n",
       "      <td>...</td>\n",
       "      <td>...</td>\n",
       "      <td>...</td>\n",
       "      <td>...</td>\n",
       "      <td>...</td>\n",
       "      <td>...</td>\n",
       "      <td>...</td>\n",
       "      <td>...</td>\n",
       "      <td>...</td>\n",
       "    </tr>\n",
       "    <tr>\n",
       "      <th>462045</th>\n",
       "      <td>864698738</td>\n",
       "      <td>01/05/2019</td>\n",
       "      <td>21:18:00</td>\n",
       "      <td>FELONY ASSAULT</td>\n",
       "      <td>BRONX</td>\n",
       "      <td>NaN</td>\n",
       "      <td>40.825012</td>\n",
       "      <td>-73.914133</td>\n",
       "      <td>2019-01-05</td>\n",
       "      <td>POINT (-73.91413 40.82501)</td>\n",
       "      <td>...</td>\n",
       "      <td>44140.0</td>\n",
       "      <td>2.894411e+07</td>\n",
       "      <td>NY</td>\n",
       "      <td>BRONX</td>\n",
       "      <td>36</td>\n",
       "      <td>005</td>\n",
       "      <td>http://www.usps.com/</td>\n",
       "      <td>0.0</td>\n",
       "      <td>0.0</td>\n",
       "      <td>1</td>\n",
       "    </tr>\n",
       "    <tr>\n",
       "      <th>462056</th>\n",
       "      <td>334524240</td>\n",
       "      <td>01/04/2019</td>\n",
       "      <td>18:19:00</td>\n",
       "      <td>GRAND LARCENY</td>\n",
       "      <td>STATEN ISLAND</td>\n",
       "      <td>NaN</td>\n",
       "      <td>40.560329</td>\n",
       "      <td>-74.163770</td>\n",
       "      <td>2019-01-04</td>\n",
       "      <td>POINT (-74.16377 40.56033)</td>\n",
       "      <td>...</td>\n",
       "      <td>27612.0</td>\n",
       "      <td>6.275104e+07</td>\n",
       "      <td>NY</td>\n",
       "      <td>STATEN ISLAND</td>\n",
       "      <td>36</td>\n",
       "      <td>085</td>\n",
       "      <td>http://www.usps.com/</td>\n",
       "      <td>0.0</td>\n",
       "      <td>0.0</td>\n",
       "      <td>1</td>\n",
       "    </tr>\n",
       "    <tr>\n",
       "      <th>462061</th>\n",
       "      <td>181896226</td>\n",
       "      <td>01/03/2019</td>\n",
       "      <td>21:35:00</td>\n",
       "      <td>ROBBERY</td>\n",
       "      <td>BROOKLYN</td>\n",
       "      <td>NaN</td>\n",
       "      <td>40.687653</td>\n",
       "      <td>-73.916852</td>\n",
       "      <td>2019-01-03</td>\n",
       "      <td>POINT (-73.91685 40.68765)</td>\n",
       "      <td>...</td>\n",
       "      <td>80232.0</td>\n",
       "      <td>3.858048e+07</td>\n",
       "      <td>NY</td>\n",
       "      <td>BROOKLYN</td>\n",
       "      <td>36</td>\n",
       "      <td>047</td>\n",
       "      <td>http://www.usps.com/</td>\n",
       "      <td>0.0</td>\n",
       "      <td>0.0</td>\n",
       "      <td>1</td>\n",
       "    </tr>\n",
       "    <tr>\n",
       "      <th>462063</th>\n",
       "      <td>377133908</td>\n",
       "      <td>01/01/2019</td>\n",
       "      <td>04:00:00</td>\n",
       "      <td>GRAND LARCENY</td>\n",
       "      <td>BROOKLYN</td>\n",
       "      <td>NaN</td>\n",
       "      <td>40.720082</td>\n",
       "      <td>-73.962790</td>\n",
       "      <td>2019-01-01</td>\n",
       "      <td>POINT (-73.96279 40.72008)</td>\n",
       "      <td>...</td>\n",
       "      <td>28481.0</td>\n",
       "      <td>1.777221e+07</td>\n",
       "      <td>NY</td>\n",
       "      <td>BROOKLYN</td>\n",
       "      <td>36</td>\n",
       "      <td>047</td>\n",
       "      <td>http://www.usps.com/</td>\n",
       "      <td>0.0</td>\n",
       "      <td>0.0</td>\n",
       "      <td>1</td>\n",
       "    </tr>\n",
       "    <tr>\n",
       "      <th>462065</th>\n",
       "      <td>110769530</td>\n",
       "      <td>01/06/2019</td>\n",
       "      <td>19:00:00</td>\n",
       "      <td>FELONY ASSAULT</td>\n",
       "      <td>BRONX</td>\n",
       "      <td>NaN</td>\n",
       "      <td>40.818428</td>\n",
       "      <td>-73.922289</td>\n",
       "      <td>2019-01-06</td>\n",
       "      <td>POINT (-73.92229 40.81843)</td>\n",
       "      <td>...</td>\n",
       "      <td>44140.0</td>\n",
       "      <td>2.894411e+07</td>\n",
       "      <td>NY</td>\n",
       "      <td>BRONX</td>\n",
       "      <td>36</td>\n",
       "      <td>005</td>\n",
       "      <td>http://www.usps.com/</td>\n",
       "      <td>0.0</td>\n",
       "      <td>0.0</td>\n",
       "      <td>1</td>\n",
       "    </tr>\n",
       "  </tbody>\n",
       "</table>\n",
       "<p>91557 rows × 24 columns</p>\n",
       "</div>"
      ],
      "text/plain": [
       "       CMPLNT_NUM CMPLNT_FR_DT CMPLNT_FR_TM       OFNS_DESC        BORO_NM  \\\n",
       "5       293718737   12/27/2019     22:00:00        BURGLARY      MANHATTAN   \n",
       "10      585574881   12/24/2019     16:00:00   GRAND LARCENY      MANHATTAN   \n",
       "14      249276017   12/20/2019     14:00:00  FELONY ASSAULT          BRONX   \n",
       "16      183266811   12/20/2019     01:35:00        BURGLARY       BROOKLYN   \n",
       "18      431547413   12/10/2019     20:06:00           ARSON      MANHATTAN   \n",
       "...           ...          ...          ...             ...            ...   \n",
       "462045  864698738   01/05/2019     21:18:00  FELONY ASSAULT          BRONX   \n",
       "462056  334524240   01/04/2019     18:19:00   GRAND LARCENY  STATEN ISLAND   \n",
       "462061  181896226   01/03/2019     21:35:00         ROBBERY       BROOKLYN   \n",
       "462063  377133908   01/01/2019     04:00:00   GRAND LARCENY       BROOKLYN   \n",
       "462065  110769530   01/06/2019     19:00:00  FELONY ASSAULT          BRONX   \n",
       "\n",
       "       PARKS_NM   Latitude  Longitude crime_date                    geometry  \\\n",
       "5           NaN  40.720759 -73.980466 2019-12-27  POINT (-73.98047 40.72076)   \n",
       "10          NaN  40.750431 -73.989282 2019-12-24  POINT (-73.98928 40.75043)   \n",
       "14          NaN  40.822271 -73.911698 2019-12-20  POINT (-73.91170 40.82227)   \n",
       "16          NaN  40.632545 -73.981951 2019-12-20  POINT (-73.98195 40.63254)   \n",
       "18          NaN  40.711952 -73.989855 2019-12-10  POINT (-73.98985 40.71195)   \n",
       "...         ...        ...        ...        ...                         ...   \n",
       "462045      NaN  40.825012 -73.914133 2019-01-05  POINT (-73.91413 40.82501)   \n",
       "462056      NaN  40.560329 -74.163770 2019-01-04  POINT (-74.16377 40.56033)   \n",
       "462061      NaN  40.687653 -73.916852 2019-01-03  POINT (-73.91685 40.68765)   \n",
       "462063      NaN  40.720082 -73.962790 2019-01-01  POINT (-73.96279 40.72008)   \n",
       "462065      NaN  40.818428 -73.922289 2019-01-06  POINT (-73.92229 40.81843)   \n",
       "\n",
       "        ...  POPULATION          AREA STATE         COUNTY  ST_FIPS  CTY_FIPS  \\\n",
       "5       ...     61455.0  1.590352e+07    NY      MANHATTAN       36       061   \n",
       "10      ...     22413.0  1.779494e+07    NY      MANHATTAN       36       061   \n",
       "14      ...     44140.0  2.894411e+07    NY          BRONX       36       005   \n",
       "16      ...     77354.0  4.355518e+07    NY       BROOKLYN       36       047   \n",
       "18      ...     81305.0  2.628013e+07    NY      MANHATTAN       36       061   \n",
       "...     ...         ...           ...   ...            ...      ...       ...   \n",
       "462045  ...     44140.0  2.894411e+07    NY          BRONX       36       005   \n",
       "462056  ...     27612.0  6.275104e+07    NY  STATEN ISLAND       36       085   \n",
       "462061  ...     80232.0  3.858048e+07    NY       BROOKLYN       36       047   \n",
       "462063  ...     28481.0  1.777221e+07    NY       BROOKLYN       36       047   \n",
       "462065  ...     44140.0  2.894411e+07    NY          BRONX       36       005   \n",
       "\n",
       "                         URL SHAPE_AREA SHAPE_LEN incident  \n",
       "5       http://www.usps.com/        0.0       0.0        1  \n",
       "10      http://www.usps.com/        0.0       0.0        1  \n",
       "14      http://www.usps.com/        0.0       0.0        1  \n",
       "16      http://www.usps.com/        0.0       0.0        1  \n",
       "18      http://www.usps.com/        0.0       0.0        1  \n",
       "...                      ...        ...       ...      ...  \n",
       "462045  http://www.usps.com/        0.0       0.0        1  \n",
       "462056  http://www.usps.com/        0.0       0.0        1  \n",
       "462061  http://www.usps.com/        0.0       0.0        1  \n",
       "462063  http://www.usps.com/        0.0       0.0        1  \n",
       "462065  http://www.usps.com/        0.0       0.0        1  \n",
       "\n",
       "[91557 rows x 24 columns]"
      ]
     },
     "execution_count": 19,
     "metadata": {},
     "output_type": "execute_result"
    }
   ],
   "source": [
    "data_merge = gpd.sjoin(gdata, zips, how='left', op='within')\n",
    "data_merge['incident'] = 1\n",
    "data_merge"
   ]
  },
  {
   "cell_type": "code",
   "execution_count": null,
   "metadata": {
    "id": "PhuBQUJ3c9l3",
    "outputId": "fee4f43e-f000-4667-ba0e-6cf536884e9b"
   },
   "outputs": [
    {
     "data": {
      "text/plain": [
       "(91527, 24)"
      ]
     },
     "execution_count": 20,
     "metadata": {},
     "output_type": "execute_result"
    }
   ],
   "source": [
    "#drop the duplicated lines for cmplnt_num; they might have appeared after the merge step\n",
    "data_merge = data_merge.drop_duplicates('CMPLNT_NUM')\n",
    "data_merge.shape"
   ]
  },
  {
   "cell_type": "code",
   "execution_count": null,
   "metadata": {
    "id": "E6vY7s0uc9l3",
    "outputId": "1041de1a-0a4c-4d26-ef25-2ad988dbffe8"
   },
   "outputs": [
    {
     "data": {
      "text/plain": [
       "(190, 2)"
      ]
     },
     "execution_count": 21,
     "metadata": {},
     "output_type": "execute_result"
    }
   ],
   "source": [
    "task_1_4 = data_merge.groupby(['ZIPCODE'], as_index=False).agg({'incident':'sum'})\n",
    "task_1_4.shape"
   ]
  },
  {
   "cell_type": "code",
   "execution_count": null,
   "metadata": {
    "id": "ks1LeZZWc9l3",
    "outputId": "94b68a94-972b-4668-f279-5336cf242fdc"
   },
   "outputs": [
    {
     "data": {
      "text/html": [
       "<div>\n",
       "<style scoped>\n",
       "    .dataframe tbody tr th:only-of-type {\n",
       "        vertical-align: middle;\n",
       "    }\n",
       "\n",
       "    .dataframe tbody tr th {\n",
       "        vertical-align: top;\n",
       "    }\n",
       "\n",
       "    .dataframe thead th {\n",
       "        text-align: right;\n",
       "    }\n",
       "</style>\n",
       "<table border=\"1\" class=\"dataframe\">\n",
       "  <thead>\n",
       "    <tr style=\"text-align: right;\">\n",
       "      <th></th>\n",
       "      <th>ZIPCODE</th>\n",
       "      <th>BLDGZIP</th>\n",
       "      <th>PO_NAME</th>\n",
       "      <th>POPULATION</th>\n",
       "      <th>AREA</th>\n",
       "      <th>STATE</th>\n",
       "      <th>COUNTY</th>\n",
       "      <th>ST_FIPS</th>\n",
       "      <th>CTY_FIPS</th>\n",
       "      <th>URL</th>\n",
       "      <th>SHAPE_AREA</th>\n",
       "      <th>SHAPE_LEN</th>\n",
       "      <th>geometry</th>\n",
       "      <th>incident</th>\n",
       "    </tr>\n",
       "  </thead>\n",
       "  <tbody>\n",
       "    <tr>\n",
       "      <th>0</th>\n",
       "      <td>11436</td>\n",
       "      <td>0</td>\n",
       "      <td>Jamaica</td>\n",
       "      <td>18681.0</td>\n",
       "      <td>2.269930e+07</td>\n",
       "      <td>NY</td>\n",
       "      <td>QUEENS</td>\n",
       "      <td>36</td>\n",
       "      <td>081</td>\n",
       "      <td>http://www.usps.com/</td>\n",
       "      <td>0.0</td>\n",
       "      <td>0.0</td>\n",
       "      <td>POLYGON ((-73.80585 40.68291, -73.80569 40.682...</td>\n",
       "      <td>160.0</td>\n",
       "    </tr>\n",
       "    <tr>\n",
       "      <th>1</th>\n",
       "      <td>11213</td>\n",
       "      <td>0</td>\n",
       "      <td>Brooklyn</td>\n",
       "      <td>62426.0</td>\n",
       "      <td>2.963100e+07</td>\n",
       "      <td>NY</td>\n",
       "      <td>BROOKLYN</td>\n",
       "      <td>36</td>\n",
       "      <td>047</td>\n",
       "      <td>http://www.usps.com/</td>\n",
       "      <td>0.0</td>\n",
       "      <td>0.0</td>\n",
       "      <td>POLYGON ((-73.93740 40.67973, -73.93487 40.679...</td>\n",
       "      <td>796.0</td>\n",
       "    </tr>\n",
       "    <tr>\n",
       "      <th>2</th>\n",
       "      <td>11212</td>\n",
       "      <td>0</td>\n",
       "      <td>Brooklyn</td>\n",
       "      <td>83866.0</td>\n",
       "      <td>4.197210e+07</td>\n",
       "      <td>NY</td>\n",
       "      <td>BROOKLYN</td>\n",
       "      <td>36</td>\n",
       "      <td>047</td>\n",
       "      <td>http://www.usps.com/</td>\n",
       "      <td>0.0</td>\n",
       "      <td>0.0</td>\n",
       "      <td>POLYGON ((-73.90294 40.67084, -73.90223 40.668...</td>\n",
       "      <td>1233.0</td>\n",
       "    </tr>\n",
       "    <tr>\n",
       "      <th>3</th>\n",
       "      <td>11225</td>\n",
       "      <td>0</td>\n",
       "      <td>Brooklyn</td>\n",
       "      <td>56527.0</td>\n",
       "      <td>2.369863e+07</td>\n",
       "      <td>NY</td>\n",
       "      <td>BROOKLYN</td>\n",
       "      <td>36</td>\n",
       "      <td>047</td>\n",
       "      <td>http://www.usps.com/</td>\n",
       "      <td>0.0</td>\n",
       "      <td>0.0</td>\n",
       "      <td>POLYGON ((-73.95797 40.67066, -73.95576 40.670...</td>\n",
       "      <td>556.0</td>\n",
       "    </tr>\n",
       "    <tr>\n",
       "      <th>4</th>\n",
       "      <td>11218</td>\n",
       "      <td>0</td>\n",
       "      <td>Brooklyn</td>\n",
       "      <td>72280.0</td>\n",
       "      <td>3.686880e+07</td>\n",
       "      <td>NY</td>\n",
       "      <td>BROOKLYN</td>\n",
       "      <td>36</td>\n",
       "      <td>047</td>\n",
       "      <td>http://www.usps.com/</td>\n",
       "      <td>0.0</td>\n",
       "      <td>0.0</td>\n",
       "      <td>POLYGON ((-73.97208 40.65060, -73.97192 40.650...</td>\n",
       "      <td>336.0</td>\n",
       "    </tr>\n",
       "    <tr>\n",
       "      <th>...</th>\n",
       "      <td>...</td>\n",
       "      <td>...</td>\n",
       "      <td>...</td>\n",
       "      <td>...</td>\n",
       "      <td>...</td>\n",
       "      <td>...</td>\n",
       "      <td>...</td>\n",
       "      <td>...</td>\n",
       "      <td>...</td>\n",
       "      <td>...</td>\n",
       "      <td>...</td>\n",
       "      <td>...</td>\n",
       "      <td>...</td>\n",
       "      <td>...</td>\n",
       "    </tr>\n",
       "    <tr>\n",
       "      <th>258</th>\n",
       "      <td>10310</td>\n",
       "      <td>0</td>\n",
       "      <td>Staten Island</td>\n",
       "      <td>25003.0</td>\n",
       "      <td>5.346328e+07</td>\n",
       "      <td>NY</td>\n",
       "      <td>STATEN ISLAND</td>\n",
       "      <td>36</td>\n",
       "      <td>085</td>\n",
       "      <td>http://www.usps.com/</td>\n",
       "      <td>0.0</td>\n",
       "      <td>0.0</td>\n",
       "      <td>POLYGON ((-74.12065 40.64104, -74.12057 40.641...</td>\n",
       "      <td>165.0</td>\n",
       "    </tr>\n",
       "    <tr>\n",
       "      <th>259</th>\n",
       "      <td>11693</td>\n",
       "      <td>0</td>\n",
       "      <td>Far Rockaway</td>\n",
       "      <td>11052.0</td>\n",
       "      <td>3.497516e+06</td>\n",
       "      <td>NY</td>\n",
       "      <td>BROOKLYN</td>\n",
       "      <td>36</td>\n",
       "      <td>047</td>\n",
       "      <td>http://www.usps.com/</td>\n",
       "      <td>0.0</td>\n",
       "      <td>0.0</td>\n",
       "      <td>POLYGON ((-73.84076 40.62536, -73.84306 40.627...</td>\n",
       "      <td>150.0</td>\n",
       "    </tr>\n",
       "    <tr>\n",
       "      <th>260</th>\n",
       "      <td>11249</td>\n",
       "      <td>0</td>\n",
       "      <td>Brooklyn</td>\n",
       "      <td>28481.0</td>\n",
       "      <td>1.777221e+07</td>\n",
       "      <td>NY</td>\n",
       "      <td>BROOKLYN</td>\n",
       "      <td>36</td>\n",
       "      <td>047</td>\n",
       "      <td>http://www.usps.com/</td>\n",
       "      <td>0.0</td>\n",
       "      <td>0.0</td>\n",
       "      <td>POLYGON ((-73.95805 40.72442, -73.95772 40.724...</td>\n",
       "      <td>372.0</td>\n",
       "    </tr>\n",
       "    <tr>\n",
       "      <th>261</th>\n",
       "      <td>10162</td>\n",
       "      <td>1</td>\n",
       "      <td>New York</td>\n",
       "      <td>0.0</td>\n",
       "      <td>2.103489e+04</td>\n",
       "      <td>NY</td>\n",
       "      <td>MANHATTAN</td>\n",
       "      <td>36</td>\n",
       "      <td>061</td>\n",
       "      <td>http://www.usps.com/</td>\n",
       "      <td>0.0</td>\n",
       "      <td>0.0</td>\n",
       "      <td>POLYGON ((-73.95133 40.76931, -73.95165 40.769...</td>\n",
       "      <td>NaN</td>\n",
       "    </tr>\n",
       "    <tr>\n",
       "      <th>262</th>\n",
       "      <td>10119</td>\n",
       "      <td>1</td>\n",
       "      <td>New York</td>\n",
       "      <td>0.0</td>\n",
       "      <td>1.263930e+05</td>\n",
       "      <td>NY</td>\n",
       "      <td>MANHATTAN</td>\n",
       "      <td>36</td>\n",
       "      <td>061</td>\n",
       "      <td>http://www.usps.com/</td>\n",
       "      <td>0.0</td>\n",
       "      <td>0.0</td>\n",
       "      <td>POLYGON ((-73.99354 40.75145, -73.99320 40.751...</td>\n",
       "      <td>NaN</td>\n",
       "    </tr>\n",
       "  </tbody>\n",
       "</table>\n",
       "<p>263 rows × 14 columns</p>\n",
       "</div>"
      ],
      "text/plain": [
       "    ZIPCODE BLDGZIP        PO_NAME  POPULATION          AREA STATE  \\\n",
       "0     11436       0        Jamaica     18681.0  2.269930e+07    NY   \n",
       "1     11213       0       Brooklyn     62426.0  2.963100e+07    NY   \n",
       "2     11212       0       Brooklyn     83866.0  4.197210e+07    NY   \n",
       "3     11225       0       Brooklyn     56527.0  2.369863e+07    NY   \n",
       "4     11218       0       Brooklyn     72280.0  3.686880e+07    NY   \n",
       "..      ...     ...            ...         ...           ...   ...   \n",
       "258   10310       0  Staten Island     25003.0  5.346328e+07    NY   \n",
       "259   11693       0   Far Rockaway     11052.0  3.497516e+06    NY   \n",
       "260   11249       0       Brooklyn     28481.0  1.777221e+07    NY   \n",
       "261   10162       1       New York         0.0  2.103489e+04    NY   \n",
       "262   10119       1       New York         0.0  1.263930e+05    NY   \n",
       "\n",
       "            COUNTY ST_FIPS CTY_FIPS                   URL  SHAPE_AREA  \\\n",
       "0           QUEENS      36      081  http://www.usps.com/         0.0   \n",
       "1         BROOKLYN      36      047  http://www.usps.com/         0.0   \n",
       "2         BROOKLYN      36      047  http://www.usps.com/         0.0   \n",
       "3         BROOKLYN      36      047  http://www.usps.com/         0.0   \n",
       "4         BROOKLYN      36      047  http://www.usps.com/         0.0   \n",
       "..             ...     ...      ...                   ...         ...   \n",
       "258  STATEN ISLAND      36      085  http://www.usps.com/         0.0   \n",
       "259       BROOKLYN      36      047  http://www.usps.com/         0.0   \n",
       "260       BROOKLYN      36      047  http://www.usps.com/         0.0   \n",
       "261      MANHATTAN      36      061  http://www.usps.com/         0.0   \n",
       "262      MANHATTAN      36      061  http://www.usps.com/         0.0   \n",
       "\n",
       "     SHAPE_LEN                                           geometry  incident  \n",
       "0          0.0  POLYGON ((-73.80585 40.68291, -73.80569 40.682...     160.0  \n",
       "1          0.0  POLYGON ((-73.93740 40.67973, -73.93487 40.679...     796.0  \n",
       "2          0.0  POLYGON ((-73.90294 40.67084, -73.90223 40.668...    1233.0  \n",
       "3          0.0  POLYGON ((-73.95797 40.67066, -73.95576 40.670...     556.0  \n",
       "4          0.0  POLYGON ((-73.97208 40.65060, -73.97192 40.650...     336.0  \n",
       "..         ...                                                ...       ...  \n",
       "258        0.0  POLYGON ((-74.12065 40.64104, -74.12057 40.641...     165.0  \n",
       "259        0.0  POLYGON ((-73.84076 40.62536, -73.84306 40.627...     150.0  \n",
       "260        0.0  POLYGON ((-73.95805 40.72442, -73.95772 40.724...     372.0  \n",
       "261        0.0  POLYGON ((-73.95133 40.76931, -73.95165 40.769...       NaN  \n",
       "262        0.0  POLYGON ((-73.99354 40.75145, -73.99320 40.751...       NaN  \n",
       "\n",
       "[263 rows x 14 columns]"
      ]
     },
     "execution_count": 22,
     "metadata": {},
     "output_type": "execute_result"
    }
   ],
   "source": [
    "#create a dataframe joint at zipcode level\n",
    "task_1 = zips.merge(task_1_4,left_on='ZIPCODE',right_on='ZIPCODE',how='left')\n",
    "task_1"
   ]
  },
  {
   "cell_type": "markdown",
   "metadata": {
    "id": "-QTo_Aenc9l3"
   },
   "source": [
    "## Exploratory Analysis"
   ]
  },
  {
   "cell_type": "markdown",
   "metadata": {
    "id": "CoTMtFFGc9l4"
   },
   "source": [
    "### 1. time series plotting"
   ]
  },
  {
   "cell_type": "code",
   "execution_count": null,
   "metadata": {
    "id": "3lBd0JkEc9l4",
    "outputId": "91f5c630-707e-4d75-8d41-fdda9a0e1248"
   },
   "outputs": [
    {
     "data": {
      "text/plain": [
       "(404, 2)"
      ]
     },
     "execution_count": 23,
     "metadata": {},
     "output_type": "execute_result"
    }
   ],
   "source": [
    "# group total crimes by daily numbers\n",
    "crime_day = data_merge.groupby(['crime_date'], as_index=False).agg({'CMPLNT_NUM':'count'})\n",
    "crime_day.shape"
   ]
  },
  {
   "cell_type": "code",
   "execution_count": null,
   "metadata": {
    "id": "EvCamUjtc9l4",
    "outputId": "8e5ed365-8e94-4789-c443-b9ac3a4a520e"
   },
   "outputs": [
    {
     "data": {
      "text/plain": [
       "Text(0.5, 0, 'date')"
      ]
     },
     "execution_count": 24,
     "metadata": {},
     "output_type": "execute_result"
    },
    {
     "data": {
      "text/plain": [
       "<Figure size 1080x432 with 0 Axes>"
      ]
     },
     "metadata": {},
     "output_type": "display_data"
    },
    {
     "data": {
      "image/png": "[encoded data removed]",
      "text/plain": [
       "<Figure size 432x288 with 1 Axes>"
      ]
     },
     "metadata": {
      "needs_background": "light"
     },
     "output_type": "display_data"
    }
   ],
   "source": [
    "# plot as a time series\n",
    "plt.figure(figsize=(15, 6))\n",
    "fig = plt.figure()\n",
    "ax = fig.add_subplot(1,1,1)\n",
    "ax.plot(crime_day.crime_date, crime_day.CMPLNT_NUM)\n",
    "\n",
    "ax.set_ylabel('# of complaints', fontsize=14)\n",
    "ax.set_xlabel('date', fontsize=14)"
   ]
  },
  {
   "cell_type": "markdown",
   "metadata": {
    "id": "eeWuIUjVc9l4"
   },
   "source": [
    "### 2. plotting on borough and zip code level normalized by population"
   ]
  },
  {
   "cell_type": "code",
   "execution_count": null,
   "metadata": {
    "id": "CMneFfPnc9l4",
    "outputId": "c0a77c07-ac5e-449c-dca6-efc5e83a350b"
   },
   "outputs": [
    {
     "data": {
      "text/html": [
       "<div>\n",
       "<style scoped>\n",
       "    .dataframe tbody tr th:only-of-type {\n",
       "        vertical-align: middle;\n",
       "    }\n",
       "\n",
       "    .dataframe tbody tr th {\n",
       "        vertical-align: top;\n",
       "    }\n",
       "\n",
       "    .dataframe thead th {\n",
       "        text-align: right;\n",
       "    }\n",
       "</style>\n",
       "<table border=\"1\" class=\"dataframe\">\n",
       "  <thead>\n",
       "    <tr style=\"text-align: right;\">\n",
       "      <th></th>\n",
       "      <th>COUNTY</th>\n",
       "      <th>POPULATION</th>\n",
       "    </tr>\n",
       "  </thead>\n",
       "  <tbody>\n",
       "    <tr>\n",
       "      <th>0</th>\n",
       "      <td>BRONX</td>\n",
       "      <td>1431301.0</td>\n",
       "    </tr>\n",
       "    <tr>\n",
       "      <th>1</th>\n",
       "      <td>BROOKLYN</td>\n",
       "      <td>2548896.0</td>\n",
       "    </tr>\n",
       "    <tr>\n",
       "      <th>2</th>\n",
       "      <td>MANHATTAN</td>\n",
       "      <td>1687421.0</td>\n",
       "    </tr>\n",
       "    <tr>\n",
       "      <th>3</th>\n",
       "      <td>QUEENS</td>\n",
       "      <td>2262768.0</td>\n",
       "    </tr>\n",
       "    <tr>\n",
       "      <th>4</th>\n",
       "      <td>STATEN ISLAND</td>\n",
       "      <td>468220.0</td>\n",
       "    </tr>\n",
       "  </tbody>\n",
       "</table>\n",
       "</div>"
      ],
      "text/plain": [
       "          COUNTY  POPULATION\n",
       "0          BRONX   1431301.0\n",
       "1       BROOKLYN   2548896.0\n",
       "2      MANHATTAN   1687421.0\n",
       "3         QUEENS   2262768.0\n",
       "4  STATEN ISLAND    468220.0"
      ]
     },
     "execution_count": 25,
     "metadata": {},
     "output_type": "execute_result"
    }
   ],
   "source": [
    "#calculate population per borough\n",
    "#cannot aggregate population sum in the merged file, since each entry recorded the total population\n",
    "#of each corresponding zip code area... and many points had the same zipcode\n",
    "pop_borough = zips.groupby(['COUNTY'], as_index=False).agg({'POPULATION':'sum'})\n",
    "pop_borough"
   ]
  },
  {
   "cell_type": "code",
   "execution_count": null,
   "metadata": {
    "id": "Sc3QWPlGc9l4",
    "outputId": "d153f7d2-b89e-4a1e-d043-893ca214bd72"
   },
   "outputs": [
    {
     "data": {
      "text/html": [
       "<div>\n",
       "<style scoped>\n",
       "    .dataframe tbody tr th:only-of-type {\n",
       "        vertical-align: middle;\n",
       "    }\n",
       "\n",
       "    .dataframe tbody tr th {\n",
       "        vertical-align: top;\n",
       "    }\n",
       "\n",
       "    .dataframe thead th {\n",
       "        text-align: right;\n",
       "    }\n",
       "</style>\n",
       "<table border=\"1\" class=\"dataframe\">\n",
       "  <thead>\n",
       "    <tr style=\"text-align: right;\">\n",
       "      <th></th>\n",
       "      <th>BORO_NM</th>\n",
       "      <th>CMPLNT_NUM</th>\n",
       "      <th>crime_rate</th>\n",
       "    </tr>\n",
       "  </thead>\n",
       "  <tbody>\n",
       "    <tr>\n",
       "      <th>0</th>\n",
       "      <td>BRONX</td>\n",
       "      <td>18919</td>\n",
       "      <td>1321.804428</td>\n",
       "    </tr>\n",
       "    <tr>\n",
       "      <th>1</th>\n",
       "      <td>BROOKLYN</td>\n",
       "      <td>26290</td>\n",
       "      <td>1031.426939</td>\n",
       "    </tr>\n",
       "    <tr>\n",
       "      <th>2</th>\n",
       "      <td>MANHATTAN</td>\n",
       "      <td>25864</td>\n",
       "      <td>1532.753237</td>\n",
       "    </tr>\n",
       "    <tr>\n",
       "      <th>3</th>\n",
       "      <td>QUEENS</td>\n",
       "      <td>18145</td>\n",
       "      <td>801.893963</td>\n",
       "    </tr>\n",
       "    <tr>\n",
       "      <th>4</th>\n",
       "      <td>STATEN ISLAND</td>\n",
       "      <td>2309</td>\n",
       "      <td>493.144248</td>\n",
       "    </tr>\n",
       "  </tbody>\n",
       "</table>\n",
       "</div>"
      ],
      "text/plain": [
       "         BORO_NM  CMPLNT_NUM   crime_rate\n",
       "0          BRONX       18919  1321.804428\n",
       "1       BROOKLYN       26290  1031.426939\n",
       "2      MANHATTAN       25864  1532.753237\n",
       "3         QUEENS       18145   801.893963\n",
       "4  STATEN ISLAND        2309   493.144248"
      ]
     },
     "execution_count": 26,
     "metadata": {},
     "output_type": "execute_result"
    }
   ],
   "source": [
    "# group crime numbers by borough and normalize by their population (per 100,000). Population is given in the zips shapefile\n",
    "#population calculated in the cell above\n",
    "crime_borough = data_merge.groupby(['BORO_NM'], as_index=False).agg({'CMPLNT_NUM':'count'})\n",
    "crime_borough['crime_rate'] = (crime_borough['CMPLNT_NUM'] / pop_borough['POPULATION'])*100000\n",
    "crime_borough"
   ]
  },
  {
   "cell_type": "code",
   "execution_count": null,
   "metadata": {
    "id": "DMs75S5kc9l5",
    "outputId": "a15c694c-b57a-4fbf-e66f-a636066d9177"
   },
   "outputs": [
    {
     "data": {
      "text/plain": [
       "Text(0.5, 0, 'Borough')"
      ]
     },
     "execution_count": 27,
     "metadata": {},
     "output_type": "execute_result"
    },
    {
     "data": {
      "image/png": "[encoded data removed]",
      "text/plain": [
       "<Figure size 1080x432 with 1 Axes>"
      ]
     },
     "metadata": {
      "needs_background": "light"
     },
     "output_type": "display_data"
    }
   ],
   "source": [
    "# plot as a bar plot\n",
    "plt.figure(figsize=(15, 6))\n",
    "plt.bar(crime_borough.BORO_NM, crime_borough.crime_rate)\n",
    "\n",
    "plt.ylabel('crime rate (incident / 100,000 residents)', fontsize=14)\n",
    "plt.xlabel('Borough', fontsize=14)"
   ]
  },
  {
   "cell_type": "code",
   "execution_count": null,
   "metadata": {
    "id": "1gloKQpec9l5",
    "outputId": "f15583e5-7030-4003-d528-a9450e021655"
   },
   "outputs": [
    {
     "data": {
      "text/html": [
       "<div>\n",
       "<style scoped>\n",
       "    .dataframe tbody tr th:only-of-type {\n",
       "        vertical-align: middle;\n",
       "    }\n",
       "\n",
       "    .dataframe tbody tr th {\n",
       "        vertical-align: top;\n",
       "    }\n",
       "\n",
       "    .dataframe thead th {\n",
       "        text-align: right;\n",
       "    }\n",
       "</style>\n",
       "<table border=\"1\" class=\"dataframe\">\n",
       "  <thead>\n",
       "    <tr style=\"text-align: right;\">\n",
       "      <th></th>\n",
       "      <th>ZIPCODE</th>\n",
       "      <th>BLDGZIP</th>\n",
       "      <th>PO_NAME</th>\n",
       "      <th>POPULATION</th>\n",
       "      <th>AREA</th>\n",
       "      <th>STATE</th>\n",
       "      <th>COUNTY</th>\n",
       "      <th>ST_FIPS</th>\n",
       "      <th>CTY_FIPS</th>\n",
       "      <th>URL</th>\n",
       "      <th>SHAPE_AREA</th>\n",
       "      <th>SHAPE_LEN</th>\n",
       "      <th>geometry</th>\n",
       "      <th>incident</th>\n",
       "      <th>crime_r</th>\n",
       "    </tr>\n",
       "  </thead>\n",
       "  <tbody>\n",
       "    <tr>\n",
       "      <th>0</th>\n",
       "      <td>11436</td>\n",
       "      <td>0</td>\n",
       "      <td>Jamaica</td>\n",
       "      <td>18681.0</td>\n",
       "      <td>2.269930e+07</td>\n",
       "      <td>NY</td>\n",
       "      <td>QUEENS</td>\n",
       "      <td>36</td>\n",
       "      <td>081</td>\n",
       "      <td>http://www.usps.com/</td>\n",
       "      <td>0.0</td>\n",
       "      <td>0.0</td>\n",
       "      <td>POLYGON ((-73.80585 40.68291, -73.80569 40.682...</td>\n",
       "      <td>160.0</td>\n",
       "      <td>856.485199</td>\n",
       "    </tr>\n",
       "    <tr>\n",
       "      <th>1</th>\n",
       "      <td>11213</td>\n",
       "      <td>0</td>\n",
       "      <td>Brooklyn</td>\n",
       "      <td>62426.0</td>\n",
       "      <td>2.963100e+07</td>\n",
       "      <td>NY</td>\n",
       "      <td>BROOKLYN</td>\n",
       "      <td>36</td>\n",
       "      <td>047</td>\n",
       "      <td>http://www.usps.com/</td>\n",
       "      <td>0.0</td>\n",
       "      <td>0.0</td>\n",
       "      <td>POLYGON ((-73.93740 40.67973, -73.93487 40.679...</td>\n",
       "      <td>796.0</td>\n",
       "      <td>1275.109730</td>\n",
       "    </tr>\n",
       "    <tr>\n",
       "      <th>2</th>\n",
       "      <td>11212</td>\n",
       "      <td>0</td>\n",
       "      <td>Brooklyn</td>\n",
       "      <td>83866.0</td>\n",
       "      <td>4.197210e+07</td>\n",
       "      <td>NY</td>\n",
       "      <td>BROOKLYN</td>\n",
       "      <td>36</td>\n",
       "      <td>047</td>\n",
       "      <td>http://www.usps.com/</td>\n",
       "      <td>0.0</td>\n",
       "      <td>0.0</td>\n",
       "      <td>POLYGON ((-73.90294 40.67084, -73.90223 40.668...</td>\n",
       "      <td>1233.0</td>\n",
       "      <td>1470.202466</td>\n",
       "    </tr>\n",
       "    <tr>\n",
       "      <th>3</th>\n",
       "      <td>11225</td>\n",
       "      <td>0</td>\n",
       "      <td>Brooklyn</td>\n",
       "      <td>56527.0</td>\n",
       "      <td>2.369863e+07</td>\n",
       "      <td>NY</td>\n",
       "      <td>BROOKLYN</td>\n",
       "      <td>36</td>\n",
       "      <td>047</td>\n",
       "      <td>http://www.usps.com/</td>\n",
       "      <td>0.0</td>\n",
       "      <td>0.0</td>\n",
       "      <td>POLYGON ((-73.95797 40.67066, -73.95576 40.670...</td>\n",
       "      <td>556.0</td>\n",
       "      <td>983.600757</td>\n",
       "    </tr>\n",
       "    <tr>\n",
       "      <th>4</th>\n",
       "      <td>11218</td>\n",
       "      <td>0</td>\n",
       "      <td>Brooklyn</td>\n",
       "      <td>72280.0</td>\n",
       "      <td>3.686880e+07</td>\n",
       "      <td>NY</td>\n",
       "      <td>BROOKLYN</td>\n",
       "      <td>36</td>\n",
       "      <td>047</td>\n",
       "      <td>http://www.usps.com/</td>\n",
       "      <td>0.0</td>\n",
       "      <td>0.0</td>\n",
       "      <td>POLYGON ((-73.97208 40.65060, -73.97192 40.650...</td>\n",
       "      <td>336.0</td>\n",
       "      <td>464.858882</td>\n",
       "    </tr>\n",
       "  </tbody>\n",
       "</table>\n",
       "</div>"
      ],
      "text/plain": [
       "  ZIPCODE BLDGZIP   PO_NAME  POPULATION          AREA STATE    COUNTY ST_FIPS  \\\n",
       "0   11436       0   Jamaica     18681.0  2.269930e+07    NY    QUEENS      36   \n",
       "1   11213       0  Brooklyn     62426.0  2.963100e+07    NY  BROOKLYN      36   \n",
       "2   11212       0  Brooklyn     83866.0  4.197210e+07    NY  BROOKLYN      36   \n",
       "3   11225       0  Brooklyn     56527.0  2.369863e+07    NY  BROOKLYN      36   \n",
       "4   11218       0  Brooklyn     72280.0  3.686880e+07    NY  BROOKLYN      36   \n",
       "\n",
       "  CTY_FIPS                   URL  SHAPE_AREA  SHAPE_LEN  \\\n",
       "0      081  http://www.usps.com/         0.0        0.0   \n",
       "1      047  http://www.usps.com/         0.0        0.0   \n",
       "2      047  http://www.usps.com/         0.0        0.0   \n",
       "3      047  http://www.usps.com/         0.0        0.0   \n",
       "4      047  http://www.usps.com/         0.0        0.0   \n",
       "\n",
       "                                            geometry  incident      crime_r  \n",
       "0  POLYGON ((-73.80585 40.68291, -73.80569 40.682...     160.0   856.485199  \n",
       "1  POLYGON ((-73.93740 40.67973, -73.93487 40.679...     796.0  1275.109730  \n",
       "2  POLYGON ((-73.90294 40.67084, -73.90223 40.668...    1233.0  1470.202466  \n",
       "3  POLYGON ((-73.95797 40.67066, -73.95576 40.670...     556.0   983.600757  \n",
       "4  POLYGON ((-73.97208 40.65060, -73.97192 40.650...     336.0   464.858882  "
      ]
     },
     "execution_count": 28,
     "metadata": {},
     "output_type": "execute_result"
    }
   ],
   "source": [
    "# now group by zip codes, normalize by their population\n",
    "import copy\n",
    "crime_zip = copy.deepcopy(task_1)\n",
    "crime_zip['crime_r'] = (crime_zip['incident'] / crime_zip['POPULATION'])*100000 \n",
    "\n",
    "#remove infinite and nan rows\n",
    "crime_zip['crime_r'].replace([np.inf, -np.inf], np.nan, inplace=True)\n",
    "crime_zip = crime_zip.loc[crime_zip['crime_r'].notna()]\n",
    "\n",
    "crime_zip.head()"
   ]
  },
  {
   "cell_type": "code",
   "execution_count": null,
   "metadata": {
    "id": "Mx2BjWklc9l5",
    "outputId": "942ad72e-c2c3-4d38-b6eb-a820c6c057ed"
   },
   "outputs": [
    {
     "data": {
      "text/plain": [
       "<AxesSubplot:>"
      ]
     },
     "execution_count": 29,
     "metadata": {},
     "output_type": "execute_result"
    },
    {
     "data": {
      "image/png": "[encoded data removed]",
      "text/plain": [
       "<Figure size 720x720 with 1 Axes>"
      ]
     },
     "metadata": {
      "needs_background": "light"
     },
     "output_type": "display_data"
    }
   ],
   "source": [
    "# plot as a heatmap with quantiles color scheme\n",
    "fig, ax = plt.subplots(1, figsize=(10,10))\n",
    "\n",
    "crime_zip.plot(ax=ax, column='crime_r', scheme='Quantiles', k=10, legend=True, \n",
    "              legend_kwds={'loc': 'upper left'})"
   ]
  },
  {
   "cell_type": "markdown",
   "metadata": {
    "id": "toiQIpWjc9l5"
   },
   "source": [
    "### 3. bar plot of total crimes vs a) months b) day of week and c) hour of day"
   ]
  },
  {
   "cell_type": "code",
   "execution_count": null,
   "metadata": {
    "id": "4xSeL4DMc9l5",
    "outputId": "798efa2d-8c88-43a8-95ca-de3ff2227b04"
   },
   "outputs": [
    {
     "data": {
      "text/html": [
       "<div>\n",
       "<style scoped>\n",
       "    .dataframe tbody tr th:only-of-type {\n",
       "        vertical-align: middle;\n",
       "    }\n",
       "\n",
       "    .dataframe tbody tr th {\n",
       "        vertical-align: top;\n",
       "    }\n",
       "\n",
       "    .dataframe thead th {\n",
       "        text-align: right;\n",
       "    }\n",
       "</style>\n",
       "<table border=\"1\" class=\"dataframe\">\n",
       "  <thead>\n",
       "    <tr style=\"text-align: right;\">\n",
       "      <th></th>\n",
       "      <th>CMPLNT_NUM</th>\n",
       "      <th>CMPLNT_FR_DT</th>\n",
       "      <th>CMPLNT_FR_TM</th>\n",
       "      <th>OFNS_DESC</th>\n",
       "      <th>BORO_NM</th>\n",
       "      <th>PARKS_NM</th>\n",
       "      <th>Latitude</th>\n",
       "      <th>Longitude</th>\n",
       "      <th>crime_date</th>\n",
       "      <th>geometry</th>\n",
       "      <th>...</th>\n",
       "      <th>COUNTY</th>\n",
       "      <th>ST_FIPS</th>\n",
       "      <th>CTY_FIPS</th>\n",
       "      <th>URL</th>\n",
       "      <th>SHAPE_AREA</th>\n",
       "      <th>SHAPE_LEN</th>\n",
       "      <th>incident</th>\n",
       "      <th>crime_month</th>\n",
       "      <th>crime_dow</th>\n",
       "      <th>crime_hour</th>\n",
       "    </tr>\n",
       "  </thead>\n",
       "  <tbody>\n",
       "    <tr>\n",
       "      <th>5</th>\n",
       "      <td>293718737</td>\n",
       "      <td>12/27/2019</td>\n",
       "      <td>22:00:00</td>\n",
       "      <td>BURGLARY</td>\n",
       "      <td>MANHATTAN</td>\n",
       "      <td>NaN</td>\n",
       "      <td>40.720759</td>\n",
       "      <td>-73.980466</td>\n",
       "      <td>2019-12-27</td>\n",
       "      <td>POINT (-73.98047 40.72076)</td>\n",
       "      <td>...</td>\n",
       "      <td>MANHATTAN</td>\n",
       "      <td>36</td>\n",
       "      <td>061</td>\n",
       "      <td>http://www.usps.com/</td>\n",
       "      <td>0.0</td>\n",
       "      <td>0.0</td>\n",
       "      <td>1</td>\n",
       "      <td>12</td>\n",
       "      <td>4</td>\n",
       "      <td>22</td>\n",
       "    </tr>\n",
       "    <tr>\n",
       "      <th>10</th>\n",
       "      <td>585574881</td>\n",
       "      <td>12/24/2019</td>\n",
       "      <td>16:00:00</td>\n",
       "      <td>GRAND LARCENY</td>\n",
       "      <td>MANHATTAN</td>\n",
       "      <td>NaN</td>\n",
       "      <td>40.750431</td>\n",
       "      <td>-73.989282</td>\n",
       "      <td>2019-12-24</td>\n",
       "      <td>POINT (-73.98928 40.75043)</td>\n",
       "      <td>...</td>\n",
       "      <td>MANHATTAN</td>\n",
       "      <td>36</td>\n",
       "      <td>061</td>\n",
       "      <td>http://www.usps.com/</td>\n",
       "      <td>0.0</td>\n",
       "      <td>0.0</td>\n",
       "      <td>1</td>\n",
       "      <td>12</td>\n",
       "      <td>1</td>\n",
       "      <td>16</td>\n",
       "    </tr>\n",
       "    <tr>\n",
       "      <th>14</th>\n",
       "      <td>249276017</td>\n",
       "      <td>12/20/2019</td>\n",
       "      <td>14:00:00</td>\n",
       "      <td>FELONY ASSAULT</td>\n",
       "      <td>BRONX</td>\n",
       "      <td>NaN</td>\n",
       "      <td>40.822271</td>\n",
       "      <td>-73.911698</td>\n",
       "      <td>2019-12-20</td>\n",
       "      <td>POINT (-73.91170 40.82227)</td>\n",
       "      <td>...</td>\n",
       "      <td>BRONX</td>\n",
       "      <td>36</td>\n",
       "      <td>005</td>\n",
       "      <td>http://www.usps.com/</td>\n",
       "      <td>0.0</td>\n",
       "      <td>0.0</td>\n",
       "      <td>1</td>\n",
       "      <td>12</td>\n",
       "      <td>4</td>\n",
       "      <td>14</td>\n",
       "    </tr>\n",
       "    <tr>\n",
       "      <th>16</th>\n",
       "      <td>183266811</td>\n",
       "      <td>12/20/2019</td>\n",
       "      <td>01:35:00</td>\n",
       "      <td>BURGLARY</td>\n",
       "      <td>BROOKLYN</td>\n",
       "      <td>NaN</td>\n",
       "      <td>40.632545</td>\n",
       "      <td>-73.981951</td>\n",
       "      <td>2019-12-20</td>\n",
       "      <td>POINT (-73.98195 40.63254)</td>\n",
       "      <td>...</td>\n",
       "      <td>BROOKLYN</td>\n",
       "      <td>36</td>\n",
       "      <td>047</td>\n",
       "      <td>http://www.usps.com/</td>\n",
       "      <td>0.0</td>\n",
       "      <td>0.0</td>\n",
       "      <td>1</td>\n",
       "      <td>12</td>\n",
       "      <td>4</td>\n",
       "      <td>1</td>\n",
       "    </tr>\n",
       "    <tr>\n",
       "      <th>18</th>\n",
       "      <td>431547413</td>\n",
       "      <td>12/10/2019</td>\n",
       "      <td>20:06:00</td>\n",
       "      <td>ARSON</td>\n",
       "      <td>MANHATTAN</td>\n",
       "      <td>NaN</td>\n",
       "      <td>40.711952</td>\n",
       "      <td>-73.989855</td>\n",
       "      <td>2019-12-10</td>\n",
       "      <td>POINT (-73.98985 40.71195)</td>\n",
       "      <td>...</td>\n",
       "      <td>MANHATTAN</td>\n",
       "      <td>36</td>\n",
       "      <td>061</td>\n",
       "      <td>http://www.usps.com/</td>\n",
       "      <td>0.0</td>\n",
       "      <td>0.0</td>\n",
       "      <td>1</td>\n",
       "      <td>12</td>\n",
       "      <td>1</td>\n",
       "      <td>20</td>\n",
       "    </tr>\n",
       "    <tr>\n",
       "      <th>...</th>\n",
       "      <td>...</td>\n",
       "      <td>...</td>\n",
       "      <td>...</td>\n",
       "      <td>...</td>\n",
       "      <td>...</td>\n",
       "      <td>...</td>\n",
       "      <td>...</td>\n",
       "      <td>...</td>\n",
       "      <td>...</td>\n",
       "      <td>...</td>\n",
       "      <td>...</td>\n",
       "      <td>...</td>\n",
       "      <td>...</td>\n",
       "      <td>...</td>\n",
       "      <td>...</td>\n",
       "      <td>...</td>\n",
       "      <td>...</td>\n",
       "      <td>...</td>\n",
       "      <td>...</td>\n",
       "      <td>...</td>\n",
       "      <td>...</td>\n",
       "    </tr>\n",
       "    <tr>\n",
       "      <th>462045</th>\n",
       "      <td>864698738</td>\n",
       "      <td>01/05/2019</td>\n",
       "      <td>21:18:00</td>\n",
       "      <td>FELONY ASSAULT</td>\n",
       "      <td>BRONX</td>\n",
       "      <td>NaN</td>\n",
       "      <td>40.825012</td>\n",
       "      <td>-73.914133</td>\n",
       "      <td>2019-01-05</td>\n",
       "      <td>POINT (-73.91413 40.82501)</td>\n",
       "      <td>...</td>\n",
       "      <td>BRONX</td>\n",
       "      <td>36</td>\n",
       "      <td>005</td>\n",
       "      <td>http://www.usps.com/</td>\n",
       "      <td>0.0</td>\n",
       "      <td>0.0</td>\n",
       "      <td>1</td>\n",
       "      <td>1</td>\n",
       "      <td>5</td>\n",
       "      <td>21</td>\n",
       "    </tr>\n",
       "    <tr>\n",
       "      <th>462056</th>\n",
       "      <td>334524240</td>\n",
       "      <td>01/04/2019</td>\n",
       "      <td>18:19:00</td>\n",
       "      <td>GRAND LARCENY</td>\n",
       "      <td>STATEN ISLAND</td>\n",
       "      <td>NaN</td>\n",
       "      <td>40.560329</td>\n",
       "      <td>-74.163770</td>\n",
       "      <td>2019-01-04</td>\n",
       "      <td>POINT (-74.16377 40.56033)</td>\n",
       "      <td>...</td>\n",
       "      <td>STATEN ISLAND</td>\n",
       "      <td>36</td>\n",
       "      <td>085</td>\n",
       "      <td>http://www.usps.com/</td>\n",
       "      <td>0.0</td>\n",
       "      <td>0.0</td>\n",
       "      <td>1</td>\n",
       "      <td>1</td>\n",
       "      <td>4</td>\n",
       "      <td>18</td>\n",
       "    </tr>\n",
       "    <tr>\n",
       "      <th>462061</th>\n",
       "      <td>181896226</td>\n",
       "      <td>01/03/2019</td>\n",
       "      <td>21:35:00</td>\n",
       "      <td>ROBBERY</td>\n",
       "      <td>BROOKLYN</td>\n",
       "      <td>NaN</td>\n",
       "      <td>40.687653</td>\n",
       "      <td>-73.916852</td>\n",
       "      <td>2019-01-03</td>\n",
       "      <td>POINT (-73.91685 40.68765)</td>\n",
       "      <td>...</td>\n",
       "      <td>BROOKLYN</td>\n",
       "      <td>36</td>\n",
       "      <td>047</td>\n",
       "      <td>http://www.usps.com/</td>\n",
       "      <td>0.0</td>\n",
       "      <td>0.0</td>\n",
       "      <td>1</td>\n",
       "      <td>1</td>\n",
       "      <td>3</td>\n",
       "      <td>21</td>\n",
       "    </tr>\n",
       "    <tr>\n",
       "      <th>462063</th>\n",
       "      <td>377133908</td>\n",
       "      <td>01/01/2019</td>\n",
       "      <td>04:00:00</td>\n",
       "      <td>GRAND LARCENY</td>\n",
       "      <td>BROOKLYN</td>\n",
       "      <td>NaN</td>\n",
       "      <td>40.720082</td>\n",
       "      <td>-73.962790</td>\n",
       "      <td>2019-01-01</td>\n",
       "      <td>POINT (-73.96279 40.72008)</td>\n",
       "      <td>...</td>\n",
       "      <td>BROOKLYN</td>\n",
       "      <td>36</td>\n",
       "      <td>047</td>\n",
       "      <td>http://www.usps.com/</td>\n",
       "      <td>0.0</td>\n",
       "      <td>0.0</td>\n",
       "      <td>1</td>\n",
       "      <td>1</td>\n",
       "      <td>1</td>\n",
       "      <td>4</td>\n",
       "    </tr>\n",
       "    <tr>\n",
       "      <th>462065</th>\n",
       "      <td>110769530</td>\n",
       "      <td>01/06/2019</td>\n",
       "      <td>19:00:00</td>\n",
       "      <td>FELONY ASSAULT</td>\n",
       "      <td>BRONX</td>\n",
       "      <td>NaN</td>\n",
       "      <td>40.818428</td>\n",
       "      <td>-73.922289</td>\n",
       "      <td>2019-01-06</td>\n",
       "      <td>POINT (-73.92229 40.81843)</td>\n",
       "      <td>...</td>\n",
       "      <td>BRONX</td>\n",
       "      <td>36</td>\n",
       "      <td>005</td>\n",
       "      <td>http://www.usps.com/</td>\n",
       "      <td>0.0</td>\n",
       "      <td>0.0</td>\n",
       "      <td>1</td>\n",
       "      <td>1</td>\n",
       "      <td>6</td>\n",
       "      <td>19</td>\n",
       "    </tr>\n",
       "  </tbody>\n",
       "</table>\n",
       "<p>91527 rows × 27 columns</p>\n",
       "</div>"
      ],
      "text/plain": [
       "       CMPLNT_NUM CMPLNT_FR_DT CMPLNT_FR_TM       OFNS_DESC        BORO_NM  \\\n",
       "5       293718737   12/27/2019     22:00:00        BURGLARY      MANHATTAN   \n",
       "10      585574881   12/24/2019     16:00:00   GRAND LARCENY      MANHATTAN   \n",
       "14      249276017   12/20/2019     14:00:00  FELONY ASSAULT          BRONX   \n",
       "16      183266811   12/20/2019     01:35:00        BURGLARY       BROOKLYN   \n",
       "18      431547413   12/10/2019     20:06:00           ARSON      MANHATTAN   \n",
       "...           ...          ...          ...             ...            ...   \n",
       "462045  864698738   01/05/2019     21:18:00  FELONY ASSAULT          BRONX   \n",
       "462056  334524240   01/04/2019     18:19:00   GRAND LARCENY  STATEN ISLAND   \n",
       "462061  181896226   01/03/2019     21:35:00         ROBBERY       BROOKLYN   \n",
       "462063  377133908   01/01/2019     04:00:00   GRAND LARCENY       BROOKLYN   \n",
       "462065  110769530   01/06/2019     19:00:00  FELONY ASSAULT          BRONX   \n",
       "\n",
       "       PARKS_NM   Latitude  Longitude crime_date                    geometry  \\\n",
       "5           NaN  40.720759 -73.980466 2019-12-27  POINT (-73.98047 40.72076)   \n",
       "10          NaN  40.750431 -73.989282 2019-12-24  POINT (-73.98928 40.75043)   \n",
       "14          NaN  40.822271 -73.911698 2019-12-20  POINT (-73.91170 40.82227)   \n",
       "16          NaN  40.632545 -73.981951 2019-12-20  POINT (-73.98195 40.63254)   \n",
       "18          NaN  40.711952 -73.989855 2019-12-10  POINT (-73.98985 40.71195)   \n",
       "...         ...        ...        ...        ...                         ...   \n",
       "462045      NaN  40.825012 -73.914133 2019-01-05  POINT (-73.91413 40.82501)   \n",
       "462056      NaN  40.560329 -74.163770 2019-01-04  POINT (-74.16377 40.56033)   \n",
       "462061      NaN  40.687653 -73.916852 2019-01-03  POINT (-73.91685 40.68765)   \n",
       "462063      NaN  40.720082 -73.962790 2019-01-01  POINT (-73.96279 40.72008)   \n",
       "462065      NaN  40.818428 -73.922289 2019-01-06  POINT (-73.92229 40.81843)   \n",
       "\n",
       "        ...         COUNTY ST_FIPS CTY_FIPS                   URL  SHAPE_AREA  \\\n",
       "5       ...      MANHATTAN      36      061  http://www.usps.com/         0.0   \n",
       "10      ...      MANHATTAN      36      061  http://www.usps.com/         0.0   \n",
       "14      ...          BRONX      36      005  http://www.usps.com/         0.0   \n",
       "16      ...       BROOKLYN      36      047  http://www.usps.com/         0.0   \n",
       "18      ...      MANHATTAN      36      061  http://www.usps.com/         0.0   \n",
       "...     ...            ...     ...      ...                   ...         ...   \n",
       "462045  ...          BRONX      36      005  http://www.usps.com/         0.0   \n",
       "462056  ...  STATEN ISLAND      36      085  http://www.usps.com/         0.0   \n",
       "462061  ...       BROOKLYN      36      047  http://www.usps.com/         0.0   \n",
       "462063  ...       BROOKLYN      36      047  http://www.usps.com/         0.0   \n",
       "462065  ...          BRONX      36      005  http://www.usps.com/         0.0   \n",
       "\n",
       "        SHAPE_LEN incident crime_month crime_dow crime_hour  \n",
       "5             0.0        1          12         4         22  \n",
       "10            0.0        1          12         1         16  \n",
       "14            0.0        1          12         4         14  \n",
       "16            0.0        1          12         4          1  \n",
       "18            0.0        1          12         1         20  \n",
       "...           ...      ...         ...       ...        ...  \n",
       "462045        0.0        1           1         5         21  \n",
       "462056        0.0        1           1         4         18  \n",
       "462061        0.0        1           1         3         21  \n",
       "462063        0.0        1           1         1          4  \n",
       "462065        0.0        1           1         6         19  \n",
       "\n",
       "[91527 rows x 27 columns]"
      ]
     },
     "execution_count": 30,
     "metadata": {},
     "output_type": "execute_result"
    }
   ],
   "source": [
    "# code here\n",
    "task_2_3 = copy.deepcopy(data_merge)\n",
    "task_2_3['crime_month'] = task_2_3['crime_date'].dt.month\n",
    "task_2_3['crime_dow'] = task_2_3['crime_date'].dt.dayofweek\n",
    "task_2_3['crime_hour'] = pd.to_datetime(task_2_3['CMPLNT_FR_TM'], format='%H:%M:%S').dt.hour\n",
    "task_2_3"
   ]
  },
  {
   "cell_type": "code",
   "execution_count": null,
   "metadata": {
    "id": "GXPJK_nMc9l6",
    "outputId": "1f2a7d99-7eb9-496b-9da6-c68719af21f6"
   },
   "outputs": [
    {
     "data": {
      "text/plain": [
       "Text(0.5, 0, 'month')"
      ]
     },
     "execution_count": 31,
     "metadata": {},
     "output_type": "execute_result"
    },
    {
     "data": {
      "image/png": "[encoded data removed]",
      "text/plain": [
       "<Figure size 1080x432 with 1 Axes>"
      ]
     },
     "metadata": {
      "needs_background": "light"
     },
     "output_type": "display_data"
    }
   ],
   "source": [
    "#group by month\n",
    "crime_by_month = task_2_3.groupby(['crime_month'], as_index=False).agg({'CMPLNT_NUM':'count'})\n",
    "\n",
    "plt.figure(figsize=(15, 6))\n",
    "plt.bar(crime_by_month.crime_month, crime_by_month.CMPLNT_NUM)\n",
    "pos = crime_by_month['crime_month'].values\n",
    "ti = ['Jan', 'Feb', 'Mar', 'April', 'May', 'June', 'July', 'Aug', 'Sept', 'Oct', 'Nov', 'Dec']\n",
    "plt.xticks(pos, ti)\n",
    "plt.ylabel('# of incidents', fontsize=14)\n",
    "plt.xlabel('month', fontsize=14)"
   ]
  },
  {
   "cell_type": "code",
   "execution_count": null,
   "metadata": {
    "id": "imdFyCpoc9l6",
    "outputId": "dad1e2e6-f79b-409e-8ada-6f9dbd63c948"
   },
   "outputs": [
    {
     "data": {
      "text/html": [
       "<div>\n",
       "<style scoped>\n",
       "    .dataframe tbody tr th:only-of-type {\n",
       "        vertical-align: middle;\n",
       "    }\n",
       "\n",
       "    .dataframe tbody tr th {\n",
       "        vertical-align: top;\n",
       "    }\n",
       "\n",
       "    .dataframe thead th {\n",
       "        text-align: right;\n",
       "    }\n",
       "</style>\n",
       "<table border=\"1\" class=\"dataframe\">\n",
       "  <thead>\n",
       "    <tr style=\"text-align: right;\">\n",
       "      <th></th>\n",
       "      <th>crime_month</th>\n",
       "      <th>CMPLNT_NUM</th>\n",
       "    </tr>\n",
       "  </thead>\n",
       "  <tbody>\n",
       "    <tr>\n",
       "      <th>0</th>\n",
       "      <td>1</td>\n",
       "      <td>6962</td>\n",
       "    </tr>\n",
       "    <tr>\n",
       "      <th>1</th>\n",
       "      <td>2</td>\n",
       "      <td>6141</td>\n",
       "    </tr>\n",
       "    <tr>\n",
       "      <th>2</th>\n",
       "      <td>3</td>\n",
       "      <td>6857</td>\n",
       "    </tr>\n",
       "    <tr>\n",
       "      <th>3</th>\n",
       "      <td>4</td>\n",
       "      <td>6926</td>\n",
       "    </tr>\n",
       "    <tr>\n",
       "      <th>4</th>\n",
       "      <td>5</td>\n",
       "      <td>7806</td>\n",
       "    </tr>\n",
       "    <tr>\n",
       "      <th>5</th>\n",
       "      <td>6</td>\n",
       "      <td>8097</td>\n",
       "    </tr>\n",
       "    <tr>\n",
       "      <th>6</th>\n",
       "      <td>7</td>\n",
       "      <td>8724</td>\n",
       "    </tr>\n",
       "    <tr>\n",
       "      <th>7</th>\n",
       "      <td>8</td>\n",
       "      <td>8591</td>\n",
       "    </tr>\n",
       "    <tr>\n",
       "      <th>8</th>\n",
       "      <td>9</td>\n",
       "      <td>8383</td>\n",
       "    </tr>\n",
       "    <tr>\n",
       "      <th>9</th>\n",
       "      <td>10</td>\n",
       "      <td>8375</td>\n",
       "    </tr>\n",
       "    <tr>\n",
       "      <th>10</th>\n",
       "      <td>11</td>\n",
       "      <td>7630</td>\n",
       "    </tr>\n",
       "    <tr>\n",
       "      <th>11</th>\n",
       "      <td>12</td>\n",
       "      <td>7035</td>\n",
       "    </tr>\n",
       "  </tbody>\n",
       "</table>\n",
       "</div>"
      ],
      "text/plain": [
       "    crime_month  CMPLNT_NUM\n",
       "0             1        6962\n",
       "1             2        6141\n",
       "2             3        6857\n",
       "3             4        6926\n",
       "4             5        7806\n",
       "5             6        8097\n",
       "6             7        8724\n",
       "7             8        8591\n",
       "8             9        8383\n",
       "9            10        8375\n",
       "10           11        7630\n",
       "11           12        7035"
      ]
     },
     "execution_count": 32,
     "metadata": {},
     "output_type": "execute_result"
    }
   ],
   "source": [
    "#print values for sanity check\n",
    "crime_by_month"
   ]
  },
  {
   "cell_type": "code",
   "execution_count": null,
   "metadata": {
    "id": "8TRNd6LIc9l6",
    "outputId": "ed661430-140c-45c8-dac7-30dbcca2e19b"
   },
   "outputs": [
    {
     "data": {
      "text/plain": [
       "Text(0.5, 0, 'dow')"
      ]
     },
     "execution_count": 33,
     "metadata": {},
     "output_type": "execute_result"
    },
    {
     "data": {
      "image/png": "[encoded data removed]",
      "text/plain": [
       "<Figure size 1080x432 with 1 Axes>"
      ]
     },
     "metadata": {
      "needs_background": "light"
     },
     "output_type": "display_data"
    }
   ],
   "source": [
    "#group by day\n",
    "crime_by_day = task_2_3.groupby(['crime_dow'], as_index=False).agg({'CMPLNT_NUM':'count'})\n",
    "\n",
    "plt.figure(figsize=(15, 6))\n",
    "plt.bar(crime_by_day.crime_dow, crime_by_day.CMPLNT_NUM)\n",
    "pos = crime_by_day['crime_dow'].values\n",
    "ti = ['Monday', 'Tuesday', 'Wednesday', 'Thursday', 'Friday', 'Saturday', 'Sunday']\n",
    "plt.xticks(pos, ti)\n",
    "plt.ylabel('# of incidents', fontsize=14)\n",
    "plt.xlabel('dow', fontsize=14)"
   ]
  },
  {
   "cell_type": "code",
   "execution_count": null,
   "metadata": {
    "id": "ccdQPvzYc9l6",
    "outputId": "cbd96d1e-52e8-408a-82d8-3d474f113789"
   },
   "outputs": [
    {
     "data": {
      "text/html": [
       "<div>\n",
       "<style scoped>\n",
       "    .dataframe tbody tr th:only-of-type {\n",
       "        vertical-align: middle;\n",
       "    }\n",
       "\n",
       "    .dataframe tbody tr th {\n",
       "        vertical-align: top;\n",
       "    }\n",
       "\n",
       "    .dataframe thead th {\n",
       "        text-align: right;\n",
       "    }\n",
       "</style>\n",
       "<table border=\"1\" class=\"dataframe\">\n",
       "  <thead>\n",
       "    <tr style=\"text-align: right;\">\n",
       "      <th></th>\n",
       "      <th>crime_dow</th>\n",
       "      <th>CMPLNT_NUM</th>\n",
       "    </tr>\n",
       "  </thead>\n",
       "  <tbody>\n",
       "    <tr>\n",
       "      <th>0</th>\n",
       "      <td>0</td>\n",
       "      <td>12975</td>\n",
       "    </tr>\n",
       "    <tr>\n",
       "      <th>1</th>\n",
       "      <td>1</td>\n",
       "      <td>13144</td>\n",
       "    </tr>\n",
       "    <tr>\n",
       "      <th>2</th>\n",
       "      <td>2</td>\n",
       "      <td>13099</td>\n",
       "    </tr>\n",
       "    <tr>\n",
       "      <th>3</th>\n",
       "      <td>3</td>\n",
       "      <td>12828</td>\n",
       "    </tr>\n",
       "    <tr>\n",
       "      <th>4</th>\n",
       "      <td>4</td>\n",
       "      <td>13880</td>\n",
       "    </tr>\n",
       "    <tr>\n",
       "      <th>5</th>\n",
       "      <td>5</td>\n",
       "      <td>13232</td>\n",
       "    </tr>\n",
       "    <tr>\n",
       "      <th>6</th>\n",
       "      <td>6</td>\n",
       "      <td>12369</td>\n",
       "    </tr>\n",
       "  </tbody>\n",
       "</table>\n",
       "</div>"
      ],
      "text/plain": [
       "   crime_dow  CMPLNT_NUM\n",
       "0          0       12975\n",
       "1          1       13144\n",
       "2          2       13099\n",
       "3          3       12828\n",
       "4          4       13880\n",
       "5          5       13232\n",
       "6          6       12369"
      ]
     },
     "execution_count": 34,
     "metadata": {},
     "output_type": "execute_result"
    }
   ],
   "source": [
    "#print values for sanity check\n",
    "crime_by_day"
   ]
  },
  {
   "cell_type": "code",
   "execution_count": null,
   "metadata": {
    "id": "jYJkS40kc9l6",
    "outputId": "a4878b8b-b463-4e7d-c19d-af46ec307785"
   },
   "outputs": [
    {
     "data": {
      "text/plain": [
       "Text(0.5, 0, 'hour of day')"
      ]
     },
     "execution_count": 35,
     "metadata": {},
     "output_type": "execute_result"
    },
    {
     "data": {
      "image/png": "[encoded data removed]",
      "text/plain": [
       "<Figure size 1080x432 with 1 Axes>"
      ]
     },
     "metadata": {
      "needs_background": "light"
     },
     "output_type": "display_data"
    }
   ],
   "source": [
    "#group by hour\n",
    "crime_by_hour = task_2_3.groupby(['crime_hour'], as_index=False).agg({'CMPLNT_NUM':'count'})\n",
    "\n",
    "plt.figure(figsize=(15, 6))\n",
    "plt.bar(crime_by_hour.crime_hour, crime_by_hour.CMPLNT_NUM)\n",
    "\n",
    "plt.xticks(crime_by_hour.crime_hour)\n",
    "plt.ylabel('# of incidents', fontsize=14)\n",
    "plt.xlabel('hour of day', fontsize=14)"
   ]
  },
  {
   "cell_type": "code",
   "execution_count": null,
   "metadata": {
    "id": "Qr9FpScYc9l6",
    "outputId": "fb0f0354-fe5e-4294-f340-3db791b280a3"
   },
   "outputs": [
    {
     "data": {
      "text/html": [
       "<div>\n",
       "<style scoped>\n",
       "    .dataframe tbody tr th:only-of-type {\n",
       "        vertical-align: middle;\n",
       "    }\n",
       "\n",
       "    .dataframe tbody tr th {\n",
       "        vertical-align: top;\n",
       "    }\n",
       "\n",
       "    .dataframe thead th {\n",
       "        text-align: right;\n",
       "    }\n",
       "</style>\n",
       "<table border=\"1\" class=\"dataframe\">\n",
       "  <thead>\n",
       "    <tr style=\"text-align: right;\">\n",
       "      <th></th>\n",
       "      <th>crime_hour</th>\n",
       "      <th>CMPLNT_NUM</th>\n",
       "    </tr>\n",
       "  </thead>\n",
       "  <tbody>\n",
       "    <tr>\n",
       "      <th>0</th>\n",
       "      <td>0</td>\n",
       "      <td>4886</td>\n",
       "    </tr>\n",
       "    <tr>\n",
       "      <th>1</th>\n",
       "      <td>1</td>\n",
       "      <td>3257</td>\n",
       "    </tr>\n",
       "    <tr>\n",
       "      <th>2</th>\n",
       "      <td>2</td>\n",
       "      <td>3065</td>\n",
       "    </tr>\n",
       "    <tr>\n",
       "      <th>3</th>\n",
       "      <td>3</td>\n",
       "      <td>2810</td>\n",
       "    </tr>\n",
       "    <tr>\n",
       "      <th>4</th>\n",
       "      <td>4</td>\n",
       "      <td>2441</td>\n",
       "    </tr>\n",
       "    <tr>\n",
       "      <th>5</th>\n",
       "      <td>5</td>\n",
       "      <td>1768</td>\n",
       "    </tr>\n",
       "    <tr>\n",
       "      <th>6</th>\n",
       "      <td>6</td>\n",
       "      <td>1518</td>\n",
       "    </tr>\n",
       "    <tr>\n",
       "      <th>7</th>\n",
       "      <td>7</td>\n",
       "      <td>2054</td>\n",
       "    </tr>\n",
       "    <tr>\n",
       "      <th>8</th>\n",
       "      <td>8</td>\n",
       "      <td>3085</td>\n",
       "    </tr>\n",
       "    <tr>\n",
       "      <th>9</th>\n",
       "      <td>9</td>\n",
       "      <td>3495</td>\n",
       "    </tr>\n",
       "    <tr>\n",
       "      <th>10</th>\n",
       "      <td>10</td>\n",
       "      <td>3721</td>\n",
       "    </tr>\n",
       "    <tr>\n",
       "      <th>11</th>\n",
       "      <td>11</td>\n",
       "      <td>3621</td>\n",
       "    </tr>\n",
       "    <tr>\n",
       "      <th>12</th>\n",
       "      <td>12</td>\n",
       "      <td>5108</td>\n",
       "    </tr>\n",
       "    <tr>\n",
       "      <th>13</th>\n",
       "      <td>13</td>\n",
       "      <td>4084</td>\n",
       "    </tr>\n",
       "    <tr>\n",
       "      <th>14</th>\n",
       "      <td>14</td>\n",
       "      <td>4580</td>\n",
       "    </tr>\n",
       "    <tr>\n",
       "      <th>15</th>\n",
       "      <td>15</td>\n",
       "      <td>5053</td>\n",
       "    </tr>\n",
       "    <tr>\n",
       "      <th>16</th>\n",
       "      <td>16</td>\n",
       "      <td>4998</td>\n",
       "    </tr>\n",
       "    <tr>\n",
       "      <th>17</th>\n",
       "      <td>17</td>\n",
       "      <td>5134</td>\n",
       "    </tr>\n",
       "    <tr>\n",
       "      <th>18</th>\n",
       "      <td>18</td>\n",
       "      <td>5053</td>\n",
       "    </tr>\n",
       "    <tr>\n",
       "      <th>19</th>\n",
       "      <td>19</td>\n",
       "      <td>4794</td>\n",
       "    </tr>\n",
       "    <tr>\n",
       "      <th>20</th>\n",
       "      <td>20</td>\n",
       "      <td>4685</td>\n",
       "    </tr>\n",
       "    <tr>\n",
       "      <th>21</th>\n",
       "      <td>21</td>\n",
       "      <td>4251</td>\n",
       "    </tr>\n",
       "    <tr>\n",
       "      <th>22</th>\n",
       "      <td>22</td>\n",
       "      <td>4132</td>\n",
       "    </tr>\n",
       "    <tr>\n",
       "      <th>23</th>\n",
       "      <td>23</td>\n",
       "      <td>3934</td>\n",
       "    </tr>\n",
       "  </tbody>\n",
       "</table>\n",
       "</div>"
      ],
      "text/plain": [
       "    crime_hour  CMPLNT_NUM\n",
       "0            0        4886\n",
       "1            1        3257\n",
       "2            2        3065\n",
       "3            3        2810\n",
       "4            4        2441\n",
       "5            5        1768\n",
       "6            6        1518\n",
       "7            7        2054\n",
       "8            8        3085\n",
       "9            9        3495\n",
       "10          10        3721\n",
       "11          11        3621\n",
       "12          12        5108\n",
       "13          13        4084\n",
       "14          14        4580\n",
       "15          15        5053\n",
       "16          16        4998\n",
       "17          17        5134\n",
       "18          18        5053\n",
       "19          19        4794\n",
       "20          20        4685\n",
       "21          21        4251\n",
       "22          22        4132\n",
       "23          23        3934"
      ]
     },
     "execution_count": 36,
     "metadata": {},
     "output_type": "execute_result"
    }
   ],
   "source": [
    "#print values for sanity check\n",
    "crime_by_hour"
   ]
  },
  {
   "cell_type": "markdown",
   "metadata": {
    "id": "UKIc09Rpc9l7"
   },
   "source": [
    "### 4. Felony assault vs grand larceny by a) day of week b) hour of day"
   ]
  },
  {
   "cell_type": "code",
   "execution_count": null,
   "metadata": {
    "id": "mRPjCVzwc9l7",
    "outputId": "632f9127-50c0-412e-f744-17db66916baf"
   },
   "outputs": [
    {
     "data": {
      "text/plain": [
       "(60685, 27)"
      ]
     },
     "execution_count": 37,
     "metadata": {},
     "output_type": "execute_result"
    }
   ],
   "source": [
    "# filter data for above crime types\n",
    "task_2_4 = task_2_3.loc[(task_2_3['OFNS_DESC'] == 'FELONY ASSAULT') | (task_2_3['OFNS_DESC'] == 'GRAND LARCENY')]\n",
    "task_2_4.shape"
   ]
  },
  {
   "cell_type": "code",
   "execution_count": null,
   "metadata": {
    "id": "jrCwVRGqc9l7",
    "outputId": "774d1e93-2399-4902-b3ad-7055307d716b"
   },
   "outputs": [
    {
     "data": {
      "text/html": [
       "<div>\n",
       "<style scoped>\n",
       "    .dataframe tbody tr th:only-of-type {\n",
       "        vertical-align: middle;\n",
       "    }\n",
       "\n",
       "    .dataframe tbody tr th {\n",
       "        vertical-align: top;\n",
       "    }\n",
       "\n",
       "    .dataframe thead th {\n",
       "        text-align: right;\n",
       "    }\n",
       "</style>\n",
       "<table border=\"1\" class=\"dataframe\">\n",
       "  <thead>\n",
       "    <tr style=\"text-align: right;\">\n",
       "      <th></th>\n",
       "      <th>OFNS_DESC</th>\n",
       "      <th>CMPLNT_NUM</th>\n",
       "      <th>rate</th>\n",
       "    </tr>\n",
       "  </thead>\n",
       "  <tbody>\n",
       "    <tr>\n",
       "      <th>0</th>\n",
       "      <td>FELONY ASSAULT</td>\n",
       "      <td>20248</td>\n",
       "      <td>241.087628</td>\n",
       "    </tr>\n",
       "    <tr>\n",
       "      <th>1</th>\n",
       "      <td>GRAND LARCENY</td>\n",
       "      <td>40437</td>\n",
       "      <td>481.472759</td>\n",
       "    </tr>\n",
       "  </tbody>\n",
       "</table>\n",
       "</div>"
      ],
      "text/plain": [
       "        OFNS_DESC  CMPLNT_NUM        rate\n",
       "0  FELONY ASSAULT       20248  241.087628\n",
       "1   GRAND LARCENY       40437  481.472759"
      ]
     },
     "execution_count": 38,
     "metadata": {},
     "output_type": "execute_result"
    }
   ],
   "source": [
    "# group the numbers and normalize by total city population (per 100,000)\n",
    "#recall that total city population is a fixed number, \n",
    "#that means, dividing complaint number by total population wouldn't have affected the shape of the output\n",
    "#just the scale\n",
    "pop = pop_borough['POPULATION'].sum()\n",
    "crime_by_type = task_2_4.groupby(['OFNS_DESC'], as_index=False).agg({'CMPLNT_NUM':'count'})\n",
    "crime_by_type['rate'] = (crime_by_type['CMPLNT_NUM'] / pop)*100000\n",
    "crime_by_type"
   ]
  },
  {
   "cell_type": "code",
   "execution_count": null,
   "metadata": {
    "id": "MGowVUAsc9l7"
   },
   "outputs": [],
   "source": [
    "#felony assault by dow\n",
    "fa_dow = task_2_4.loc[task_2_4['OFNS_DESC'] == 'FELONY ASSAULT'].groupby(['crime_dow'], as_index=False).agg({'CMPLNT_NUM':'count'})\n",
    "fa_dow['rate'] = (fa_dow['CMPLNT_NUM'] / pop)*100000\n",
    "\n",
    "#grand larceny by dow\n",
    "gl_dow = task_2_4.loc[task_2_4['OFNS_DESC'] == 'GRAND LARCENY'].groupby(['crime_dow'], as_index=False).agg({'CMPLNT_NUM':'count'})\n",
    "gl_dow['rate'] = (gl_dow['CMPLNT_NUM'] / pop)*100000\n",
    "\n",
    "#felont assault by hour\n",
    "fa_hour = task_2_4.loc[task_2_4['OFNS_DESC'] == 'FELONY ASSAULT'].groupby(['crime_hour'], as_index=False).agg({'CMPLNT_NUM':'count'})\n",
    "fa_hour['rate'] = (fa_hour['CMPLNT_NUM'] / pop)*100000\n",
    "\n",
    "#grand larceny by hour\n",
    "gl_hour = task_2_4.loc[task_2_4['OFNS_DESC'] == 'GRAND LARCENY'].groupby(['crime_hour'], as_index=False).agg({'CMPLNT_NUM':'count'})\n",
    "gl_hour['rate'] = (gl_hour['CMPLNT_NUM'] / pop)*100000"
   ]
  },
  {
   "cell_type": "code",
   "execution_count": null,
   "metadata": {
    "id": "fx2QA-hMc9l7",
    "outputId": "452d1c18-1bfd-446f-a6f6-ce005d713f3f"
   },
   "outputs": [
    {
     "data": {
      "image/png": "[encoded data removed]",
      "text/plain": [
       "<Figure size 1224x720 with 1 Axes>"
      ]
     },
     "metadata": {
      "needs_background": "light"
     },
     "output_type": "display_data"
    }
   ],
   "source": [
    "#by day of week\n",
    "plt.figure(figsize=(17, 10))\n",
    "# set width of bars\n",
    "barWidth = 0.27\n",
    " \n",
    "# set heights of bars\n",
    "bars1 = fa_dow['rate']\n",
    "bars2 = gl_dow['rate']\n",
    " \n",
    "# Set position of bar on X axis\n",
    "r1 = np.arange(len(bars1))\n",
    "r2 = [x + barWidth for x in r1]\n",
    " \n",
    "# Make the plot\n",
    "plt.bar(r1, bars1, color='#808080', width=barWidth, edgecolor='white', label='Felony Assault')\n",
    "plt.bar(r2, bars2, color='#069af3', width=barWidth, edgecolor='white', label='Grand Larceny')\n",
    "\n",
    " \n",
    "# Add xticks on the middle of the group bars\n",
    "plt.xlabel('day of week', fontweight='bold')\n",
    "plt.ylabel('crime rate (# incident / 100000 people)', fontweight='bold')\n",
    "plt.xticks([r + barWidth for r in range(len(bars1))], ['Monday', 'Tuesday', 'Wednesday', 'Thursday', 'Friday', 'Saturday', 'Sunday'])\n",
    " \n",
    "# Create legend & Show graphic\n",
    "plt.legend()\n",
    "plt.show()"
   ]
  },
  {
   "cell_type": "code",
   "execution_count": null,
   "metadata": {
    "id": "qq4PHtR9c9l8",
    "outputId": "c25605e4-ffe8-4188-ffc3-db112058be64"
   },
   "outputs": [
    {
     "data": {
      "text/html": [
       "<div>\n",
       "<style scoped>\n",
       "    .dataframe tbody tr th:only-of-type {\n",
       "        vertical-align: middle;\n",
       "    }\n",
       "\n",
       "    .dataframe tbody tr th {\n",
       "        vertical-align: top;\n",
       "    }\n",
       "\n",
       "    .dataframe thead th {\n",
       "        text-align: right;\n",
       "    }\n",
       "</style>\n",
       "<table border=\"1\" class=\"dataframe\">\n",
       "  <thead>\n",
       "    <tr style=\"text-align: right;\">\n",
       "      <th></th>\n",
       "      <th>crime_dow</th>\n",
       "      <th>CMPLNT_NUM</th>\n",
       "      <th>rate</th>\n",
       "    </tr>\n",
       "  </thead>\n",
       "  <tbody>\n",
       "    <tr>\n",
       "      <th>0</th>\n",
       "      <td>0</td>\n",
       "      <td>2740</td>\n",
       "      <td>32.624462</td>\n",
       "    </tr>\n",
       "    <tr>\n",
       "      <th>1</th>\n",
       "      <td>1</td>\n",
       "      <td>2683</td>\n",
       "      <td>31.945778</td>\n",
       "    </tr>\n",
       "    <tr>\n",
       "      <th>2</th>\n",
       "      <td>2</td>\n",
       "      <td>2714</td>\n",
       "      <td>32.314887</td>\n",
       "    </tr>\n",
       "    <tr>\n",
       "      <th>3</th>\n",
       "      <td>3</td>\n",
       "      <td>2655</td>\n",
       "      <td>31.612389</td>\n",
       "    </tr>\n",
       "    <tr>\n",
       "      <th>4</th>\n",
       "      <td>4</td>\n",
       "      <td>2787</td>\n",
       "      <td>33.184078</td>\n",
       "    </tr>\n",
       "    <tr>\n",
       "      <th>5</th>\n",
       "      <td>5</td>\n",
       "      <td>3384</td>\n",
       "      <td>40.292401</td>\n",
       "    </tr>\n",
       "    <tr>\n",
       "      <th>6</th>\n",
       "      <td>6</td>\n",
       "      <td>3285</td>\n",
       "      <td>39.113634</td>\n",
       "    </tr>\n",
       "  </tbody>\n",
       "</table>\n",
       "</div>"
      ],
      "text/plain": [
       "   crime_dow  CMPLNT_NUM       rate\n",
       "0          0        2740  32.624462\n",
       "1          1        2683  31.945778\n",
       "2          2        2714  32.314887\n",
       "3          3        2655  31.612389\n",
       "4          4        2787  33.184078\n",
       "5          5        3384  40.292401\n",
       "6          6        3285  39.113634"
      ]
     },
     "execution_count": 41,
     "metadata": {},
     "output_type": "execute_result"
    }
   ],
   "source": [
    "#sanity check\n",
    "fa_dow"
   ]
  },
  {
   "cell_type": "code",
   "execution_count": null,
   "metadata": {
    "id": "AH-ca8NYc9l8",
    "outputId": "49a4b9af-ef3c-49d5-d2b8-41c0a57baba3"
   },
   "outputs": [
    {
     "data": {
      "text/html": [
       "<div>\n",
       "<style scoped>\n",
       "    .dataframe tbody tr th:only-of-type {\n",
       "        vertical-align: middle;\n",
       "    }\n",
       "\n",
       "    .dataframe tbody tr th {\n",
       "        vertical-align: top;\n",
       "    }\n",
       "\n",
       "    .dataframe thead th {\n",
       "        text-align: right;\n",
       "    }\n",
       "</style>\n",
       "<table border=\"1\" class=\"dataframe\">\n",
       "  <thead>\n",
       "    <tr style=\"text-align: right;\">\n",
       "      <th></th>\n",
       "      <th>crime_dow</th>\n",
       "      <th>CMPLNT_NUM</th>\n",
       "      <th>rate</th>\n",
       "    </tr>\n",
       "  </thead>\n",
       "  <tbody>\n",
       "    <tr>\n",
       "      <th>0</th>\n",
       "      <td>0</td>\n",
       "      <td>5922</td>\n",
       "      <td>70.511702</td>\n",
       "    </tr>\n",
       "    <tr>\n",
       "      <th>1</th>\n",
       "      <td>1</td>\n",
       "      <td>5997</td>\n",
       "      <td>71.404707</td>\n",
       "    </tr>\n",
       "    <tr>\n",
       "      <th>2</th>\n",
       "      <td>2</td>\n",
       "      <td>6009</td>\n",
       "      <td>71.547588</td>\n",
       "    </tr>\n",
       "    <tr>\n",
       "      <th>3</th>\n",
       "      <td>3</td>\n",
       "      <td>5833</td>\n",
       "      <td>69.452002</td>\n",
       "    </tr>\n",
       "    <tr>\n",
       "      <th>4</th>\n",
       "      <td>4</td>\n",
       "      <td>6405</td>\n",
       "      <td>76.262656</td>\n",
       "    </tr>\n",
       "    <tr>\n",
       "      <th>5</th>\n",
       "      <td>5</td>\n",
       "      <td>5385</td>\n",
       "      <td>64.117783</td>\n",
       "    </tr>\n",
       "    <tr>\n",
       "      <th>6</th>\n",
       "      <td>6</td>\n",
       "      <td>4886</td>\n",
       "      <td>58.176321</td>\n",
       "    </tr>\n",
       "  </tbody>\n",
       "</table>\n",
       "</div>"
      ],
      "text/plain": [
       "   crime_dow  CMPLNT_NUM       rate\n",
       "0          0        5922  70.511702\n",
       "1          1        5997  71.404707\n",
       "2          2        6009  71.547588\n",
       "3          3        5833  69.452002\n",
       "4          4        6405  76.262656\n",
       "5          5        5385  64.117783\n",
       "6          6        4886  58.176321"
      ]
     },
     "execution_count": 42,
     "metadata": {},
     "output_type": "execute_result"
    }
   ],
   "source": [
    "#sanity check\n",
    "gl_dow"
   ]
  },
  {
   "cell_type": "code",
   "execution_count": null,
   "metadata": {
    "id": "xCMUASGEc9l8",
    "outputId": "3bf1ca83-47e8-40fa-a05d-d8e9fd6d4cbc"
   },
   "outputs": [
    {
     "data": {
      "image/png": "[encoded data removed]",
      "text/plain": [
       "<Figure size 1224x720 with 1 Axes>"
      ]
     },
     "metadata": {
      "needs_background": "light"
     },
     "output_type": "display_data"
    }
   ],
   "source": [
    "plt.figure(figsize=(17, 10))\n",
    "# set width of bars\n",
    "barWidth = 0.27\n",
    " \n",
    "# set heights of bars\n",
    "bars1 = fa_hour['rate']\n",
    "bars2 = gl_hour['rate']\n",
    " \n",
    "# Set position of bar on X axis\n",
    "r1 = np.arange(len(bars1))\n",
    "r2 = [x + barWidth for x in r1]\n",
    " \n",
    "# Make the plot\n",
    "plt.bar(r1, bars1, color='#808080', width=barWidth, edgecolor='white', label='Felony Assault')\n",
    "plt.bar(r2, bars2, color='#069af3', width=barWidth, edgecolor='white', label='Grand Larceny')\n",
    "\n",
    " \n",
    "# Add xticks on the middle of the group bars\n",
    "plt.xlabel('hour of day', fontweight='bold')\n",
    "plt.ylabel('crime rate (# incident / 100000 people)', fontweight='bold')\n",
    "plt.xticks([r + barWidth for r in range(len(bars1))], \n",
    "           ['0','1','2','3','4','5','6','7','8','9','10','11','12','13','14','15','16','17','18',\n",
    "           '19','20','21','22','23'])\n",
    " \n",
    "# Create legend & Show graphic\n",
    "plt.legend()\n",
    "plt.show()"
   ]
  },
  {
   "cell_type": "code",
   "execution_count": null,
   "metadata": {
    "id": "Pz64Wm09c9l8",
    "outputId": "4d3faf9d-304d-4edd-9f4a-229858aa4c9b"
   },
   "outputs": [
    {
     "data": {
      "text/html": [
       "<div>\n",
       "<style scoped>\n",
       "    .dataframe tbody tr th:only-of-type {\n",
       "        vertical-align: middle;\n",
       "    }\n",
       "\n",
       "    .dataframe tbody tr th {\n",
       "        vertical-align: top;\n",
       "    }\n",
       "\n",
       "    .dataframe thead th {\n",
       "        text-align: right;\n",
       "    }\n",
       "</style>\n",
       "<table border=\"1\" class=\"dataframe\">\n",
       "  <thead>\n",
       "    <tr style=\"text-align: right;\">\n",
       "      <th></th>\n",
       "      <th>crime_hour</th>\n",
       "      <th>CMPLNT_NUM</th>\n",
       "      <th>rate</th>\n",
       "    </tr>\n",
       "  </thead>\n",
       "  <tbody>\n",
       "    <tr>\n",
       "      <th>0</th>\n",
       "      <td>0</td>\n",
       "      <td>1155</td>\n",
       "      <td>13.752282</td>\n",
       "    </tr>\n",
       "    <tr>\n",
       "      <th>1</th>\n",
       "      <td>1</td>\n",
       "      <td>915</td>\n",
       "      <td>10.894665</td>\n",
       "    </tr>\n",
       "    <tr>\n",
       "      <th>2</th>\n",
       "      <td>2</td>\n",
       "      <td>813</td>\n",
       "      <td>9.680178</td>\n",
       "    </tr>\n",
       "    <tr>\n",
       "      <th>3</th>\n",
       "      <td>3</td>\n",
       "      <td>779</td>\n",
       "      <td>9.275349</td>\n",
       "    </tr>\n",
       "    <tr>\n",
       "      <th>4</th>\n",
       "      <td>4</td>\n",
       "      <td>654</td>\n",
       "      <td>7.787007</td>\n",
       "    </tr>\n",
       "    <tr>\n",
       "      <th>5</th>\n",
       "      <td>5</td>\n",
       "      <td>475</td>\n",
       "      <td>5.655700</td>\n",
       "    </tr>\n",
       "    <tr>\n",
       "      <th>6</th>\n",
       "      <td>6</td>\n",
       "      <td>406</td>\n",
       "      <td>4.834136</td>\n",
       "    </tr>\n",
       "    <tr>\n",
       "      <th>7</th>\n",
       "      <td>7</td>\n",
       "      <td>509</td>\n",
       "      <td>6.060530</td>\n",
       "    </tr>\n",
       "    <tr>\n",
       "      <th>8</th>\n",
       "      <td>8</td>\n",
       "      <td>608</td>\n",
       "      <td>7.239297</td>\n",
       "    </tr>\n",
       "    <tr>\n",
       "      <th>9</th>\n",
       "      <td>9</td>\n",
       "      <td>614</td>\n",
       "      <td>7.310737</td>\n",
       "    </tr>\n",
       "    <tr>\n",
       "      <th>10</th>\n",
       "      <td>10</td>\n",
       "      <td>652</td>\n",
       "      <td>7.763193</td>\n",
       "    </tr>\n",
       "    <tr>\n",
       "      <th>11</th>\n",
       "      <td>11</td>\n",
       "      <td>680</td>\n",
       "      <td>8.096582</td>\n",
       "    </tr>\n",
       "    <tr>\n",
       "      <th>12</th>\n",
       "      <td>12</td>\n",
       "      <td>755</td>\n",
       "      <td>8.989587</td>\n",
       "    </tr>\n",
       "    <tr>\n",
       "      <th>13</th>\n",
       "      <td>13</td>\n",
       "      <td>767</td>\n",
       "      <td>9.132468</td>\n",
       "    </tr>\n",
       "    <tr>\n",
       "      <th>14</th>\n",
       "      <td>14</td>\n",
       "      <td>837</td>\n",
       "      <td>9.965940</td>\n",
       "    </tr>\n",
       "    <tr>\n",
       "      <th>15</th>\n",
       "      <td>15</td>\n",
       "      <td>953</td>\n",
       "      <td>11.347121</td>\n",
       "    </tr>\n",
       "    <tr>\n",
       "      <th>16</th>\n",
       "      <td>16</td>\n",
       "      <td>1012</td>\n",
       "      <td>12.049619</td>\n",
       "    </tr>\n",
       "    <tr>\n",
       "      <th>17</th>\n",
       "      <td>17</td>\n",
       "      <td>1067</td>\n",
       "      <td>12.704489</td>\n",
       "    </tr>\n",
       "    <tr>\n",
       "      <th>18</th>\n",
       "      <td>18</td>\n",
       "      <td>1057</td>\n",
       "      <td>12.585422</td>\n",
       "    </tr>\n",
       "    <tr>\n",
       "      <th>19</th>\n",
       "      <td>19</td>\n",
       "      <td>1040</td>\n",
       "      <td>12.383007</td>\n",
       "    </tr>\n",
       "    <tr>\n",
       "      <th>20</th>\n",
       "      <td>20</td>\n",
       "      <td>1190</td>\n",
       "      <td>14.169018</td>\n",
       "    </tr>\n",
       "    <tr>\n",
       "      <th>21</th>\n",
       "      <td>21</td>\n",
       "      <td>1109</td>\n",
       "      <td>13.204572</td>\n",
       "    </tr>\n",
       "    <tr>\n",
       "      <th>22</th>\n",
       "      <td>22</td>\n",
       "      <td>1139</td>\n",
       "      <td>13.561774</td>\n",
       "    </tr>\n",
       "    <tr>\n",
       "      <th>23</th>\n",
       "      <td>23</td>\n",
       "      <td>1062</td>\n",
       "      <td>12.644956</td>\n",
       "    </tr>\n",
       "  </tbody>\n",
       "</table>\n",
       "</div>"
      ],
      "text/plain": [
       "    crime_hour  CMPLNT_NUM       rate\n",
       "0            0        1155  13.752282\n",
       "1            1         915  10.894665\n",
       "2            2         813   9.680178\n",
       "3            3         779   9.275349\n",
       "4            4         654   7.787007\n",
       "5            5         475   5.655700\n",
       "6            6         406   4.834136\n",
       "7            7         509   6.060530\n",
       "8            8         608   7.239297\n",
       "9            9         614   7.310737\n",
       "10          10         652   7.763193\n",
       "11          11         680   8.096582\n",
       "12          12         755   8.989587\n",
       "13          13         767   9.132468\n",
       "14          14         837   9.965940\n",
       "15          15         953  11.347121\n",
       "16          16        1012  12.049619\n",
       "17          17        1067  12.704489\n",
       "18          18        1057  12.585422\n",
       "19          19        1040  12.383007\n",
       "20          20        1190  14.169018\n",
       "21          21        1109  13.204572\n",
       "22          22        1139  13.561774\n",
       "23          23        1062  12.644956"
      ]
     },
     "execution_count": 44,
     "metadata": {},
     "output_type": "execute_result"
    }
   ],
   "source": [
    "#sanity check\n",
    "fa_hour"
   ]
  },
  {
   "cell_type": "code",
   "execution_count": null,
   "metadata": {
    "id": "TsUQtoCWc9l8",
    "outputId": "02b0ffe6-2cc9-4f4c-8d68-d1e5b364af46"
   },
   "outputs": [
    {
     "data": {
      "text/html": [
       "<div>\n",
       "<style scoped>\n",
       "    .dataframe tbody tr th:only-of-type {\n",
       "        vertical-align: middle;\n",
       "    }\n",
       "\n",
       "    .dataframe tbody tr th {\n",
       "        vertical-align: top;\n",
       "    }\n",
       "\n",
       "    .dataframe thead th {\n",
       "        text-align: right;\n",
       "    }\n",
       "</style>\n",
       "<table border=\"1\" class=\"dataframe\">\n",
       "  <thead>\n",
       "    <tr style=\"text-align: right;\">\n",
       "      <th></th>\n",
       "      <th>crime_hour</th>\n",
       "      <th>CMPLNT_NUM</th>\n",
       "      <th>rate</th>\n",
       "    </tr>\n",
       "  </thead>\n",
       "  <tbody>\n",
       "    <tr>\n",
       "      <th>0</th>\n",
       "      <td>0</td>\n",
       "      <td>2155</td>\n",
       "      <td>25.659020</td>\n",
       "    </tr>\n",
       "    <tr>\n",
       "      <th>1</th>\n",
       "      <td>1</td>\n",
       "      <td>1015</td>\n",
       "      <td>12.085339</td>\n",
       "    </tr>\n",
       "    <tr>\n",
       "      <th>2</th>\n",
       "      <td>2</td>\n",
       "      <td>929</td>\n",
       "      <td>11.061359</td>\n",
       "    </tr>\n",
       "    <tr>\n",
       "      <th>3</th>\n",
       "      <td>3</td>\n",
       "      <td>739</td>\n",
       "      <td>8.799079</td>\n",
       "    </tr>\n",
       "    <tr>\n",
       "      <th>4</th>\n",
       "      <td>4</td>\n",
       "      <td>611</td>\n",
       "      <td>7.275017</td>\n",
       "    </tr>\n",
       "    <tr>\n",
       "      <th>5</th>\n",
       "      <td>5</td>\n",
       "      <td>450</td>\n",
       "      <td>5.358032</td>\n",
       "    </tr>\n",
       "    <tr>\n",
       "      <th>6</th>\n",
       "      <td>6</td>\n",
       "      <td>434</td>\n",
       "      <td>5.167524</td>\n",
       "    </tr>\n",
       "    <tr>\n",
       "      <th>7</th>\n",
       "      <td>7</td>\n",
       "      <td>819</td>\n",
       "      <td>9.751618</td>\n",
       "    </tr>\n",
       "    <tr>\n",
       "      <th>8</th>\n",
       "      <td>8</td>\n",
       "      <td>1565</td>\n",
       "      <td>18.634045</td>\n",
       "    </tr>\n",
       "    <tr>\n",
       "      <th>9</th>\n",
       "      <td>9</td>\n",
       "      <td>1918</td>\n",
       "      <td>22.837123</td>\n",
       "    </tr>\n",
       "    <tr>\n",
       "      <th>10</th>\n",
       "      <td>10</td>\n",
       "      <td>2094</td>\n",
       "      <td>24.932709</td>\n",
       "    </tr>\n",
       "    <tr>\n",
       "      <th>11</th>\n",
       "      <td>11</td>\n",
       "      <td>1915</td>\n",
       "      <td>22.801403</td>\n",
       "    </tr>\n",
       "    <tr>\n",
       "      <th>12</th>\n",
       "      <td>12</td>\n",
       "      <td>3174</td>\n",
       "      <td>37.791986</td>\n",
       "    </tr>\n",
       "    <tr>\n",
       "      <th>13</th>\n",
       "      <td>13</td>\n",
       "      <td>2196</td>\n",
       "      <td>26.147196</td>\n",
       "    </tr>\n",
       "    <tr>\n",
       "      <th>14</th>\n",
       "      <td>14</td>\n",
       "      <td>2395</td>\n",
       "      <td>28.516637</td>\n",
       "    </tr>\n",
       "    <tr>\n",
       "      <th>15</th>\n",
       "      <td>15</td>\n",
       "      <td>2547</td>\n",
       "      <td>30.326461</td>\n",
       "    </tr>\n",
       "    <tr>\n",
       "      <th>16</th>\n",
       "      <td>16</td>\n",
       "      <td>2430</td>\n",
       "      <td>28.933373</td>\n",
       "    </tr>\n",
       "    <tr>\n",
       "      <th>17</th>\n",
       "      <td>17</td>\n",
       "      <td>2405</td>\n",
       "      <td>28.635705</td>\n",
       "    </tr>\n",
       "    <tr>\n",
       "      <th>18</th>\n",
       "      <td>18</td>\n",
       "      <td>2350</td>\n",
       "      <td>27.980834</td>\n",
       "    </tr>\n",
       "    <tr>\n",
       "      <th>19</th>\n",
       "      <td>19</td>\n",
       "      <td>2136</td>\n",
       "      <td>25.432792</td>\n",
       "    </tr>\n",
       "    <tr>\n",
       "      <th>20</th>\n",
       "      <td>20</td>\n",
       "      <td>1920</td>\n",
       "      <td>22.860937</td>\n",
       "    </tr>\n",
       "    <tr>\n",
       "      <th>21</th>\n",
       "      <td>21</td>\n",
       "      <td>1555</td>\n",
       "      <td>18.514977</td>\n",
       "    </tr>\n",
       "    <tr>\n",
       "      <th>22</th>\n",
       "      <td>22</td>\n",
       "      <td>1361</td>\n",
       "      <td>16.205070</td>\n",
       "    </tr>\n",
       "    <tr>\n",
       "      <th>23</th>\n",
       "      <td>23</td>\n",
       "      <td>1324</td>\n",
       "      <td>15.764521</td>\n",
       "    </tr>\n",
       "  </tbody>\n",
       "</table>\n",
       "</div>"
      ],
      "text/plain": [
       "    crime_hour  CMPLNT_NUM       rate\n",
       "0            0        2155  25.659020\n",
       "1            1        1015  12.085339\n",
       "2            2         929  11.061359\n",
       "3            3         739   8.799079\n",
       "4            4         611   7.275017\n",
       "5            5         450   5.358032\n",
       "6            6         434   5.167524\n",
       "7            7         819   9.751618\n",
       "8            8        1565  18.634045\n",
       "9            9        1918  22.837123\n",
       "10          10        2094  24.932709\n",
       "11          11        1915  22.801403\n",
       "12          12        3174  37.791986\n",
       "13          13        2196  26.147196\n",
       "14          14        2395  28.516637\n",
       "15          15        2547  30.326461\n",
       "16          16        2430  28.933373\n",
       "17          17        2405  28.635705\n",
       "18          18        2350  27.980834\n",
       "19          19        2136  25.432792\n",
       "20          20        1920  22.860937\n",
       "21          21        1555  18.514977\n",
       "22          22        1361  16.205070\n",
       "23          23        1324  15.764521"
      ]
     },
     "execution_count": 45,
     "metadata": {},
     "output_type": "execute_result"
    }
   ],
   "source": [
    "#sanity check\n",
    "gl_hour"
   ]
  },
  {
   "cell_type": "markdown",
   "metadata": {
    "id": "5qikc5DQc9l8"
   },
   "source": [
    "### % distribution of crime types by borough in pie charts \n",
    "\n",
    "for matplotlib pie charts documentation: https://matplotlib.org/3.1.1/gallery/pie_and_polar_charts/pie_features.html"
   ]
  },
  {
   "cell_type": "code",
   "execution_count": null,
   "metadata": {
    "id": "B0f4Jub4c9l9",
    "outputId": "8706ff51-2290-4801-a12a-42f991dd5e90"
   },
   "outputs": [
    {
     "data": {
      "image/png": "[encoded data removed]",
      "text/plain": [
       "<Figure size 432x288 with 1 Axes>"
      ]
     },
     "metadata": {},
     "output_type": "display_data"
    },
    {
     "data": {
      "image/png": "[encoded data removed]",
      "text/plain": [
       "<Figure size 432x288 with 1 Axes>"
      ]
     },
     "metadata": {},
     "output_type": "display_data"
    },
    {
     "data": {
      "image/png": "[encoded data removed]",
      "text/plain": [
       "<Figure size 432x288 with 1 Axes>"
      ]
     },
     "metadata": {},
     "output_type": "display_data"
    },
    {
     "data": {
      "image/png": "[encoded data removed]",
      "text/plain": [
       "<Figure size 432x288 with 1 Axes>"
      ]
     },
     "metadata": {},
     "output_type": "display_data"
    },
    {
     "data": {
      "image/png": "[encoded data removed]",
      "text/plain": [
       "<Figure size 432x288 with 1 Axes>"
      ]
     },
     "metadata": {},
     "output_type": "display_data"
    }
   ],
   "source": [
    "# plot 5 pie charts for each borough depicting % of each crime type within type 1 crimes\n",
    "\n",
    "for boro in data.BORO_NM.unique():\n",
    "    # complete this code here\n",
    "    #create a dataframe for each borough\n",
    "    df1 = data.loc[data['BORO_NM']==boro]\n",
    "    #group by crime type for each borough's dataframe\n",
    "    df_g = df1.groupby(['OFNS_DESC'], as_index=False).agg({'CMPLNT_NUM':'count'})\n",
    "\n",
    "    #plot    \n",
    "    labels = df_g['OFNS_DESC']\n",
    "    sizes = df_g['CMPLNT_NUM']\n",
    "    fig1, ax1 = plt.subplots()\n",
    "    ax1.set_title(boro)\n",
    "    ax1.pie(sizes, labels=labels, autopct='%1.1f%%',\n",
    "        shadow=True, startangle=90)\n",
    "    ax1.axis('equal')  # Equal aspect ratio ensures that pie is drawn as a circle.\n",
    "\n",
    "plt.show()"
   ]
  },
  {
   "cell_type": "markdown",
   "metadata": {
    "id": "T7oNUyxXc9l9"
   },
   "source": [
    "## Hypothesis testing tasks\n"
   ]
  },
  {
   "cell_type": "markdown",
   "metadata": {
    "id": "KbwGrzMec9l9"
   },
   "source": [
    "### 1. plotting distributions and normality test"
   ]
  },
  {
   "cell_type": "code",
   "execution_count": null,
   "metadata": {
    "id": "2yqgFV37c9l9"
   },
   "outputs": [],
   "source": [
    "def distribution_analysis(x, log_scale = False, fit_distribution = 'None', bins = 50, vis_means = True, vis_curve = True, print_outputs = True):\n",
    "\n",
    "    if log_scale: \n",
    "        x1 = np.log10(x) #convert data to decimal logarithms\n",
    "        xlabel = 'log(values)' #reflect in x labels\n",
    "    else:\n",
    "        x1 = x #leave original scale \n",
    "        xlabel = 'values'\n",
    "    mu = x1.mean() #compute the mean\n",
    "    if log_scale: #if logscale, output all three - log mean, its original scale and original scale mean\n",
    "        print('Log mean = {:.15f}({:.15f}), mean = {:.15f}'.format(mu,10**mu,x.mean()))\n",
    "    else:\n",
    "        print('Mean = {:.15f}'.format(mu)) #otherwise print mean\n",
    "    sigma = x1.std() #compute and output standard deviation \n",
    "    print('Standard deviation = {:.15f}'.format(sigma))\n",
    "    for p in [1,5,25,50,75,95,99]: #output percentile values\n",
    "        print('{:d} percentile = {:.15f}'.format(p,np.percentile(x,p)))\n",
    "        \n",
    "    #visualize histogram and the interpolated line (if vis_curve=True) using seaborn\n",
    "    sns.distplot(x1, hist=True, kde=vis_curve, \n",
    "        bins=bins,color = 'darkblue', \n",
    "        hist_kws={'edgecolor':'black'},\n",
    "        kde_kws={'linewidth': 4})\n",
    "    \n",
    "    #show vertical lines for mean and std if vis_means = True\n",
    "    if vis_means:\n",
    "        plt.axvline(mu, color='r', ls='--', lw=2.0)\n",
    "        plt.axvline(mu-sigma, color='g', ls='--', lw=2.0)\n",
    "        plt.axvline(mu+sigma, color='g', ls='--', lw=2.0)\n",
    "        \n",
    "    ylim = plt.gca().get_ylim() #keep the y-range of original distribution density values \n",
    "    #(to make sure the fitted distribution would not affect it)\n",
    "    \n",
    "    h = np.arange(mu - 3 * sigma, mu + 3 * sigma, sigma / 100) #3-sigma visualization range for the fitted distribution\n",
    "    pars = None #fitted distribution parameters\n",
    "    \n",
    "    #fit and visualize the theoretic distribution\n",
    "    if fit_distribution == 'normal':\n",
    "        pars = norm.fit(x1)\n",
    "        plt.plot(h,norm.pdf(h,*pars),'r')\n",
    "    elif fit_distribution == 'gev':\n",
    "        pars = gev.fit(x1)\n",
    "        plt.plot(h,gev.pdf(h,*pars),'r')\n",
    "    elif fit_distribution == 'pareto':\n",
    "        pars = pareto.fit(x1)\n",
    "        plt.plot(h,pareto.pdf(h,*pars),'r')\n",
    "    \n",
    "    plt.xlabel(xlabel) #add x label \n",
    "    plt.ylim(ylim) #restore the y-range of original distribution density values \n",
    "    plt.show()\n",
    "    return pars"
   ]
  },
  {
   "cell_type": "code",
   "execution_count": null,
   "metadata": {
    "id": "rsy0prf_c9l9",
    "outputId": "4d3167a5-48a2-4201-a27e-1fcf83080732"
   },
   "outputs": [
    {
     "data": {
      "text/html": [
       "<div>\n",
       "<style scoped>\n",
       "    .dataframe tbody tr th:only-of-type {\n",
       "        vertical-align: middle;\n",
       "    }\n",
       "\n",
       "    .dataframe tbody tr th {\n",
       "        vertical-align: top;\n",
       "    }\n",
       "\n",
       "    .dataframe thead th {\n",
       "        text-align: right;\n",
       "    }\n",
       "</style>\n",
       "<table border=\"1\" class=\"dataframe\">\n",
       "  <thead>\n",
       "    <tr style=\"text-align: right;\">\n",
       "      <th></th>\n",
       "      <th>crime_date</th>\n",
       "      <th>CMPLNT_NUM</th>\n",
       "    </tr>\n",
       "  </thead>\n",
       "  <tbody>\n",
       "    <tr>\n",
       "      <th>0</th>\n",
       "      <td>2019-01-01</td>\n",
       "      <td>313</td>\n",
       "    </tr>\n",
       "    <tr>\n",
       "      <th>1</th>\n",
       "      <td>2019-01-02</td>\n",
       "      <td>202</td>\n",
       "    </tr>\n",
       "    <tr>\n",
       "      <th>2</th>\n",
       "      <td>2019-01-03</td>\n",
       "      <td>259</td>\n",
       "    </tr>\n",
       "    <tr>\n",
       "      <th>3</th>\n",
       "      <td>2019-01-04</td>\n",
       "      <td>261</td>\n",
       "    </tr>\n",
       "    <tr>\n",
       "      <th>4</th>\n",
       "      <td>2019-01-05</td>\n",
       "      <td>230</td>\n",
       "    </tr>\n",
       "    <tr>\n",
       "      <th>...</th>\n",
       "      <td>...</td>\n",
       "      <td>...</td>\n",
       "    </tr>\n",
       "    <tr>\n",
       "      <th>360</th>\n",
       "      <td>2019-12-27</td>\n",
       "      <td>188</td>\n",
       "    </tr>\n",
       "    <tr>\n",
       "      <th>361</th>\n",
       "      <td>2019-12-28</td>\n",
       "      <td>215</td>\n",
       "    </tr>\n",
       "    <tr>\n",
       "      <th>362</th>\n",
       "      <td>2019-12-29</td>\n",
       "      <td>198</td>\n",
       "    </tr>\n",
       "    <tr>\n",
       "      <th>363</th>\n",
       "      <td>2019-12-30</td>\n",
       "      <td>172</td>\n",
       "    </tr>\n",
       "    <tr>\n",
       "      <th>364</th>\n",
       "      <td>2019-12-31</td>\n",
       "      <td>153</td>\n",
       "    </tr>\n",
       "  </tbody>\n",
       "</table>\n",
       "<p>365 rows × 2 columns</p>\n",
       "</div>"
      ],
      "text/plain": [
       "    crime_date  CMPLNT_NUM\n",
       "0   2019-01-01         313\n",
       "1   2019-01-02         202\n",
       "2   2019-01-03         259\n",
       "3   2019-01-04         261\n",
       "4   2019-01-05         230\n",
       "..         ...         ...\n",
       "360 2019-12-27         188\n",
       "361 2019-12-28         215\n",
       "362 2019-12-29         198\n",
       "363 2019-12-30         172\n",
       "364 2019-12-31         153\n",
       "\n",
       "[365 rows x 2 columns]"
      ]
     },
     "execution_count": 48,
     "metadata": {},
     "output_type": "execute_result"
    }
   ],
   "source": [
    "# group type 1 crime numbers per day for 2019\n",
    "cd = copy.deepcopy(task_2_3)\n",
    "c_d = cd.loc[(cd['crime_date'] >= '2019-01-01') & (cd['crime_date'] <= '2019-12-31')]\n",
    "cd2019 = c_d.groupby(['crime_date'], as_index=False).agg({'CMPLNT_NUM':'count'})\n",
    "cd2019"
   ]
  },
  {
   "cell_type": "code",
   "execution_count": null,
   "metadata": {
    "id": "KpAveZTIc9l9",
    "outputId": "2ed33b1c-50dd-4ae2-d0d3-ecf55d8ec842"
   },
   "outputs": [
    {
     "name": "stdout",
     "output_type": "stream",
     "text": [
      "Mean = 250.632876712328766\n",
      "Standard deviation = 32.865226181733739\n",
      "1 percentile = 172.639999999999986\n",
      "5 percentile = 197.199999999999989\n",
      "25 percentile = 227.000000000000000\n",
      "50 percentile = 251.000000000000000\n",
      "75 percentile = 275.000000000000000\n",
      "95 percentile = 302.000000000000000\n",
      "99 percentile = 313.360000000000014\n"
     ]
    },
    {
     "data": {
      "image/png": "[encoded data removed]",
      "text/plain": [
       "<Figure size 432x288 with 1 Axes>"
      ]
     },
     "metadata": {
      "needs_background": "light"
     },
     "output_type": "display_data"
    }
   ],
   "source": [
    "# plot the distribution (density plot)\n",
    "distribution_analysis(cd2019.CMPLNT_NUM, bins=40, vis_means = False)"
   ]
  },
  {
   "cell_type": "code",
   "execution_count": null,
   "metadata": {
    "id": "rTq1XeBIc9l-",
    "outputId": "269753ce-9f85-4656-f265-28ff2ddb153f"
   },
   "outputs": [
    {
     "name": "stdout",
     "output_type": "stream",
     "text": [
      "Mean = 250.632876712328766\n",
      "Standard deviation = 32.865226181733739\n",
      "1 percentile = 172.639999999999986\n",
      "5 percentile = 197.199999999999989\n",
      "25 percentile = 227.000000000000000\n",
      "50 percentile = 251.000000000000000\n",
      "75 percentile = 275.000000000000000\n",
      "95 percentile = 302.000000000000000\n",
      "99 percentile = 313.360000000000014\n"
     ]
    },
    {
     "data": {
      "image/png": "[encoded data removed]",
      "text/plain": [
       "<Figure size 432x288 with 1 Axes>"
      ]
     },
     "metadata": {
      "needs_background": "light"
     },
     "output_type": "display_data"
    }
   ],
   "source": [
    "# normality test aka if follows normal distribution\n",
    "distribution_analysis(cd2019.CMPLNT_NUM, fit_distribution='normal',bins=40);"
   ]
  },
  {
   "cell_type": "code",
   "execution_count": null,
   "metadata": {
    "id": "7ekZx9Omc9l-"
   },
   "outputs": [],
   "source": [
    "def is_normal(x): \n",
    "    return stats.kstest(x,'norm',args=(x.mean(),x.std()))"
   ]
  },
  {
   "cell_type": "code",
   "execution_count": null,
   "metadata": {
    "id": "LblYEapDc9l-",
    "outputId": "0649f976-4111-443c-b89e-959d96440bd3"
   },
   "outputs": [
    {
     "data": {
      "text/plain": [
       "KstestResult(statistic=0.04692494296779304, pvalue=0.38570806588523665)"
      ]
     },
     "execution_count": 52,
     "metadata": {},
     "output_type": "execute_result"
    }
   ],
   "source": [
    "is_normal(cd2019.CMPLNT_NUM)"
   ]
  },
  {
   "cell_type": "markdown",
   "metadata": {
    "id": "Pa7JmZTxc9l-"
   },
   "source": [
    "Based on the p-value of 0.3857 (i.e. greater than 0.05), we cannot reject the hypothesis that this dataset does not follows a normal distribution. As a result, we can treat this dataset as following a normal distritbution"
   ]
  },
  {
   "cell_type": "markdown",
   "metadata": {
    "id": "1acuLz0Fc9l-"
   },
   "source": [
    "### Weekdays VS Weekend distribution"
   ]
  },
  {
   "cell_type": "code",
   "execution_count": null,
   "metadata": {
    "id": "F3DHrVLhc9l-"
   },
   "outputs": [],
   "source": [
    "# create dataframes for weekdays and weekends\n",
    "crime_wd = c_d.loc[(c_d['crime_dow'] >= 0) & (c_d['crime_dow'] <= 4)]\n",
    "crime_wk = c_d.loc[(c_d['crime_dow'] == 5) | (c_d['crime_dow'] == 6)]"
   ]
  },
  {
   "cell_type": "code",
   "execution_count": null,
   "metadata": {
    "id": "q-Xd3KMfc9l-"
   },
   "outputs": [],
   "source": [
    "# group daily numbers for weekdays and weekends\n",
    "g_crime_wd = crime_wd.groupby(['crime_date'], as_index=False).agg({'CMPLNT_NUM':'count'})\n",
    "g_crime_wk = crime_wk.groupby(['crime_date'], as_index=False).agg({'CMPLNT_NUM':'count'})\n",
    "\n",
    "#normalize by population; use the \"pop\" variable that we calculated for the whole city\n",
    "#did not specify for location, and therefore use whole city's population for this normalization\n",
    "g_crime_wd['c_rate'] = (g_crime_wd['CMPLNT_NUM'] / pop)*100000\n",
    "g_crime_wk['c_rate'] = (g_crime_wk['CMPLNT_NUM'] / pop)*100000\n",
    "\n",
    "#once again, since the population here is a fixed number for the sume of the whole city\n",
    "#normalizing wouldn't change the shape, just the scale\n",
    "#and the result for ks or t-tests shouldn't vary"
   ]
  },
  {
   "cell_type": "code",
   "execution_count": null,
   "metadata": {
    "id": "OODcjtric9l-",
    "outputId": "934684ea-7ab8-4169-8e05-902ae3e91eac"
   },
   "outputs": [
    {
     "name": "stdout",
     "output_type": "stream",
     "text": [
      "Mean = 3.005789823268819\n",
      "Standard deviation = 0.398495125525745\n",
      "1 percentile = 2.038433520991460\n",
      "5 percentile = 2.369440833395447\n",
      "25 percentile = 2.738549706939461\n",
      "50 percentile = 3.012404677633407\n",
      "75 percentile = 3.298166386183612\n",
      "95 percentile = 3.595834832590076\n",
      "99 percentile = 3.743478382007681\n"
     ]
    },
    {
     "data": {
      "image/png": "[encoded data removed]",
      "text/plain": [
       "<Figure size 432x288 with 1 Axes>"
      ]
     },
     "metadata": {
      "needs_background": "light"
     },
     "output_type": "display_data"
    }
   ],
   "source": [
    "# plot distribution (density plot)\n",
    "#weekdays\n",
    "distribution_analysis(g_crime_wd.c_rate, bins=40)"
   ]
  },
  {
   "cell_type": "code",
   "execution_count": null,
   "metadata": {
    "id": "VlwQcH4Oc9l-",
    "outputId": "bf6fe5eb-ace3-4809-bfa4-82b5914edb87"
   },
   "outputs": [
    {
     "name": "stdout",
     "output_type": "stream",
     "text": [
      "Mean = 2.930087903415620\n",
      "Standard deviation = 0.369010453926332\n",
      "1 percentile = 2.262637394824808\n",
      "5 percentile = 2.347413368361368\n",
      "25 percentile = 2.664132595337845\n",
      "50 percentile = 2.893337299070822\n",
      "75 percentile = 3.217795905653866\n",
      "95 percentile = 3.563091303485364\n",
      "99 percentile = 3.678824795448197\n"
     ]
    },
    {
     "data": {
      "image/png": "[encoded data removed]",
      "text/plain": [
       "<Figure size 432x288 with 1 Axes>"
      ]
     },
     "metadata": {
      "needs_background": "light"
     },
     "output_type": "display_data"
    }
   ],
   "source": [
    "#weekends\n",
    "distribution_analysis(g_crime_wk.c_rate, bins=40)"
   ]
  },
  {
   "cell_type": "code",
   "execution_count": null,
   "metadata": {
    "id": "rciHwFsmc9l_",
    "outputId": "75cdeb61-1724-4386-ed39-903e0fa87304"
   },
   "outputs": [
    {
     "data": {
      "text/plain": [
       "Ttest_indResult(statistic=1.6723889005204076, pvalue=0.09530928900409187)"
      ]
     },
     "execution_count": 57,
     "metadata": {},
     "output_type": "execute_result"
    }
   ],
   "source": [
    "# t-test\n",
    "stats.ttest_ind(g_crime_wd['c_rate'],\n",
    "                g_crime_wk['c_rate'])"
   ]
  },
  {
   "cell_type": "markdown",
   "metadata": {
    "id": "Pf6SYwkQc9l_"
   },
   "source": [
    "As seen from the t-test, we obtained a p-value of 0.0953, which is slightly less than 0.1 (i.e. 10% significance level as mentioned in the prompt). Therefore, we are rejecting the hypothesis that the crime rate during weekdays and weekends have the same mean."
   ]
  },
  {
   "cell_type": "code",
   "execution_count": null,
   "metadata": {
    "id": "kw0k9Atwc9l_",
    "outputId": "24bf6ff7-a0fd-417f-a326-8a1061538d89"
   },
   "outputs": [
    {
     "data": {
      "text/plain": [
       "KstestResult(statistic=0.14968317123489538, pvalue=0.06303387257522763)"
      ]
     },
     "execution_count": 58,
     "metadata": {},
     "output_type": "execute_result"
    }
   ],
   "source": [
    "# k-s test\n",
    "stats.ks_2samp(g_crime_wd['c_rate'],\n",
    "                g_crime_wk['c_rate'])"
   ]
  },
  {
   "cell_type": "markdown",
   "metadata": {
    "id": "fgkQ4vpwc9l_"
   },
   "source": [
    "As seen from the ks-test, we obtained a p-value of 0.063, which is less than 0.1 (i.e. 10% significance level as mentioned in the prompt). Therefore, we are rejecting the hypothesis that the crime rate during weekdays and weekends have the same distribution."
   ]
  }
 ],
 "metadata": {
  "colab": {
   "name": "PUI_midterm.ipynb",
   "provenance": []
  },
  "kernelspec": {
   "display_name": "Python 3",
   "language": "python",
   "name": "python3"
  },
  "language_info": {
   "codemirror_mode": {
    "name": "ipython",
    "version": 3
   },
   "file_extension": ".py",
   "mimetype": "text/x-python",
   "name": "python",
   "nbconvert_exporter": "python",
   "pygments_lexer": "ipython3",
   "version": "3.8.8"
  }
 },
 "nbformat": 4,
 "nbformat_minor": 1
}
